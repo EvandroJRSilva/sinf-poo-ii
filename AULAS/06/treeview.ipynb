{
 "cells": [
  {
   "cell_type": "markdown",
   "id": "910237fd",
   "metadata": {},
   "source": [
    "# Aula 06\n",
    "\n",
    "## Ttk TreeView\n",
    "\n",
    "Documentação no site do Python: [ttk.TreeView](https://docs.python.org/3/library/tkinter.ttk.html#tkinter.ttk.Treeview).\n",
    "\n",
    "Uma aplicação interessante do TreeView é a visualização de dados [JSON](https://www.json.org/json-en.html) ou [YAML](https://yaml.org/). O Python possui nativamente um módulo para lidar com arquivos [json](https://docs.python.org/3.13/library/json.html).\n",
    "\n",
    "**Desafio para a turma**: estudar o módulo nativo [json](https://docs.python.org/3.13/library/json.html).\n",
    "\n",
    "Agora vamos ver como utilizar um `TreeView` (exemplo retirado [deste site](https://pythonassets.com/posts/treeview-in-tk-tkinter/)):"
   ]
  },
  {
   "cell_type": "code",
   "execution_count": 1,
   "id": "648a486b",
   "metadata": {},
   "outputs": [],
   "source": [
    "import tkinter as tk\n",
    "from tkinter import ttk\n",
    "\n",
    "root = tk.Tk()\n",
    "root.title(\"Treeview in Tk\")\n",
    "treeview = ttk.Treeview()\n",
    "treeview.pack()\n",
    "root.mainloop()"
   ]
  },
  {
   "cell_type": "markdown",
   "id": "62f095cc",
   "metadata": {},
   "source": [
    "### Adicionando e verificando itens"
   ]
  },
  {
   "cell_type": "code",
   "execution_count": 2,
   "id": "d6a7b566",
   "metadata": {},
   "outputs": [],
   "source": [
    "import tkinter as tk\n",
    "from tkinter import ttk\n",
    "\n",
    "root = tk.Tk()\n",
    "root.title(\"Treeview in Tk\")\n",
    "treeview = ttk.Treeview()\n",
    "#-----------------------------------------\n",
    "treeview.insert(\"\", tk.END, text=\"Item 1\")\n",
    "#-----------------------------------------\n",
    "treeview.pack()\n",
    "root.mainloop()"
   ]
  },
  {
   "cell_type": "markdown",
   "id": "fca58abd",
   "metadata": {},
   "source": [
    "Uma vez que uma árvore apresenta dados hierárquicos, o primeiro argumento passado para o `insert()` deve ser um nó raiz ou a string `\"\"`, indicando que esse item é o nó raiz.\n",
    "\n",
    "O segundo argumento é a posição (`index`) onde o item deve ser inserido. Com o `tk.END` o item é inserido ao fim da árvore. Para inserir no início basta trocar por `0`: `insert(\"\", 0, text=\"Item 1\")`.\n",
    "\n",
    "O método `insert()` retorna o ID de um item criado. Logo, para inserir um subitem ao \"Item 1\", é necessário fazer as seguintes alterações:"
   ]
  },
  {
   "cell_type": "code",
   "execution_count": 3,
   "id": "d2fea7c7",
   "metadata": {},
   "outputs": [],
   "source": [
    "import tkinter as tk\n",
    "from tkinter import ttk\n",
    "\n",
    "root = tk.Tk()\n",
    "root.title(\"Treeview in Tk\")\n",
    "treeview = ttk.Treeview()\n",
    "#-----------------------------------------\n",
    "item = treeview.insert(\"\", tk.END, text=\"Item 1\")\n",
    "treeview.insert(item, tk.END, text=\"Subitem 1\")\n",
    "#-----------------------------------------\n",
    "treeview.pack()\n",
    "root.mainloop()\n"
   ]
  },
  {
   "cell_type": "markdown",
   "id": "16a99961",
   "metadata": {},
   "source": [
    "E ainda dá para inserir um subitem dentro do subitem:"
   ]
  },
  {
   "cell_type": "code",
   "execution_count": 4,
   "id": "96603203",
   "metadata": {},
   "outputs": [],
   "source": [
    "import tkinter as tk\n",
    "from tkinter import ttk\n",
    "\n",
    "root = tk.Tk()\n",
    "root.title(\"Treeview in Tk\")\n",
    "treeview = ttk.Treeview()\n",
    "item = treeview.insert(\"\", tk.END, text=\"Item 1\")\n",
    "#-----------------------------------------\n",
    "subitem = treeview.insert(item, tk.END, text=\"Subitem 1\")\n",
    "treeview.insert(subitem, tk.END, text=\"Subitem do subitem\")\n",
    "#-----------------------------------------\n",
    "treeview.pack()\n",
    "root.mainloop()"
   ]
  },
  {
   "cell_type": "markdown",
   "id": "b238d126",
   "metadata": {},
   "source": [
    "Os itens da árvore, ou os subitems de um item específico podem ser obtidos com o método `get_children()`, a qual retorna uma tupla de IDs:"
   ]
  },
  {
   "cell_type": "code",
   "execution_count": null,
   "id": "c906826c",
   "metadata": {},
   "outputs": [],
   "source": [
    "import tkinter as tk\n",
    "from tkinter import ttk\n",
    "\n",
    "def show_info():\n",
    "    # Pegando a lista de todos os itens e subitens\n",
    "    treeview_children = treeview.get_children()\n",
    "    print(treeview_children)\n",
    "    # Pegando os subitens do Item 1\n",
    "    item_children = treeview.get_children(item)\n",
    "    print(item_children)\n",
    "\n",
    "root = tk.Tk()\n",
    "root.title(\"Treeview in Tk\")\n",
    "\n",
    "treeview = ttk.Treeview()\n",
    "item = treeview.insert(\"\", tk.END, text=\"Item 1\")\n",
    "treeview.insert(item, tk.END, text=\"Subitem 1\")\n",
    "treeview.insert(item, 0, text=\"Subitem 2\")\n",
    "\n",
    "treeview.insert(\"\", tk.END, text=\"Item 2\")\n",
    "\n",
    "treeview.pack()\n",
    "\n",
    "button = ttk.Button(text=\"Mostra informação\", command=show_info)\n",
    "button.pack()\n",
    "\n",
    "root.mainloop()"
   ]
  },
  {
   "cell_type": "markdown",
   "id": "519210b6",
   "metadata": {},
   "source": [
    "### Excluindo e movendo itens\n",
    "\n",
    "O método `move()` recebe o item a ser movido como primeiro argumento. O segundo argumento é o local para onde o item deverá ser movido, e o terceiro argumento é a posição ou índice do item no novo local. Exemplo:\n",
    "\n",
    "```python\n",
    "# ...\n",
    "item1 = treeview.insert(\"\", tk.END, text=\"Item 1\")\n",
    "item2 = treeview.insert(\"\", tk.END, text=\"Item 2\")\n",
    "# ...\n",
    "treeview.move(item1, item2, tk.END) # item1 será movido para dentro e para o fim de item2\n",
    "# ...\n",
    "```"
   ]
  },
  {
   "cell_type": "markdown",
   "id": "3e703894",
   "metadata": {},
   "source": [
    "A remoção de um ou mais itens pode ocorrer com os métodos `delete()` e `detach()`. O primeiro exclui os itens passados do widget e da memória. O segundo serve para \"destacar\" os itens da árvore e podem ser inseridos novamente com o método `move()`.\n",
    "\n",
    "```python\n",
    "# Ecluindo item 2.\n",
    "treeview.delete(item2)\n",
    "# Destacando item 1 (pode ser inserido novamente).\n",
    "treeview.detach(item1)\n",
    "# ................\n",
    "print(treeview.exists(item2))    # False.\n",
    "print(treeview.exists(item1))    # True.\n",
    "\n",
    "# Para apagar a ávore inteira\n",
    "treeview.delete(*treeview.get_children())\n",
    "```"
   ]
  },
  {
   "cell_type": "code",
   "execution_count": 10,
   "id": "48fe46a5",
   "metadata": {},
   "outputs": [
    {
     "name": "stdout",
     "output_type": "stream",
     "text": [
      "('I001', 'I002')\n",
      "('13', '12', '11')\n",
      "('I001', 'I002')\n",
      "('13', '11')\n",
      "('I001', 'I002')\n",
      "('13', '11', '21')\n"
     ]
    }
   ],
   "source": [
    "import tkinter as tk\n",
    "from tkinter import ttk\n",
    "\n",
    "def show_info():\n",
    "    # Pegando a lista de todos os itens e subitens\n",
    "    treeview_children = treeview.get_children()\n",
    "    print(treeview_children)\n",
    "    # Pegando os subitens do Item 1\n",
    "    item_children = treeview.get_children(item)\n",
    "    print(item_children)\n",
    "    \n",
    "def delete_item():\n",
    "    treeview.delete(12)\n",
    "    \n",
    "def detach_item():\n",
    "    treeview.detach(21)\n",
    "    \n",
    "def attach_item():\n",
    "    treeview.move(21, item, tk.END)\n",
    "\n",
    "root = tk.Tk()\n",
    "root.title(\"Treeview in Tk\")\n",
    "\n",
    "treeview = ttk.Treeview()\n",
    "item = treeview.insert(\"\", tk.END, text=\"Item 1\")\n",
    "treeview.insert(item, tk.END, text=\"Subitem 1.1\", iid='11')\n",
    "treeview.insert(item, 0, text=\"Subitem 1.2\", iid='12')\n",
    "treeview.insert(item, 0, text=\"Subitem 1.3\", iid='13')\n",
    "\n",
    "item2 = treeview.insert(\"\", tk.END, text=\"Item 2\")\n",
    "treeview.insert(item2, tk.END, text=\"Subitem 2.1\", iid='21')\n",
    "\n",
    "treeview.pack()\n",
    "\n",
    "button = ttk.Button(text=\"Mostra informação\", command=show_info)\n",
    "button2 = ttk.Button(text=\"Delete item\", command=delete_item)\n",
    "button3 = ttk.Button(text=\"Detach item\", command=detach_item)\n",
    "button4 = ttk.Button(text=\"Attach item\", command=attach_item)\n",
    "\n",
    "button.pack()\n",
    "button2.pack()\n",
    "button3.pack()\n",
    "button4.pack()\n",
    "\n",
    "root.mainloop()"
   ]
  },
  {
   "cell_type": "markdown",
   "id": "af04d2df",
   "metadata": {},
   "source": [
    "### Criando colunas\n",
    "\n",
    "Uma árvore pode ter múltiplas colunas e, desta forma, ser usada como uma tabela. Por exemplo, se houver a necessidade de exibir uma lista de arquivos e pastas, o texto de cada item pode ser usado para mostrar o nome do arquivo enquanto outras duas colunas podem exibir seu tamanho e última modificação.\n",
    "\n",
    "Para isso é preciso primeiro configurar a instância do TreeView com as colunas:"
   ]
  },
  {
   "cell_type": "code",
   "execution_count": 11,
   "id": "4599bc2c",
   "metadata": {},
   "outputs": [],
   "source": [
    "import tkinter as tk\n",
    "from tkinter import ttk\n",
    "\n",
    "root = tk.Tk()\n",
    "root.title(\"Treeview com colunas\")\n",
    "#-----------------------------------------------------------------\n",
    "treeview = ttk.Treeview(columns=(\"tamanho\", \"última modificação\"))\n",
    "#-----------------------------------------------------------------\n",
    "treeview.pack()\n",
    "\n",
    "root.mainloop()"
   ]
  },
  {
   "cell_type": "markdown",
   "id": "9ccf0952",
   "metadata": {},
   "source": [
    "Então pode-se adicionar uma nova linha para representar o arquivo:"
   ]
  },
  {
   "cell_type": "code",
   "execution_count": 12,
   "id": "a4be1746",
   "metadata": {},
   "outputs": [],
   "source": [
    "import tkinter as tk\n",
    "from tkinter import ttk\n",
    "\n",
    "root = tk.Tk()\n",
    "root.title(\"Treeview in Tk\")\n",
    "treeview = ttk.Treeview(columns=(\"tamanho\", \"última modificação\"))\n",
    "#--------------------------------\n",
    "treeview.insert(\n",
    "    \"\",\n",
    "    tk.END,\n",
    "    text=\"README.txt\",\n",
    "    values=(\"850 bytes\", \"18:30\")\n",
    ")\n",
    "#--------------------------------\n",
    "treeview.pack()\n",
    "\n",
    "root.mainloop()"
   ]
  },
  {
   "cell_type": "markdown",
   "id": "dde480e6",
   "metadata": {},
   "source": [
    "Mas cadê o nome das colunas?\n",
    "\n",
    "Para aparecerem, é preciso que os cabeçalhos das colunas sejam definidos:"
   ]
  },
  {
   "cell_type": "code",
   "execution_count": 13,
   "id": "82321de5",
   "metadata": {},
   "outputs": [],
   "source": [
    "import tkinter as tk\n",
    "from tkinter import ttk\n",
    "\n",
    "root = tk.Tk()\n",
    "root.title(\"Treeview in Tk\")\n",
    "treeview = ttk.Treeview(columns=(\"tamanho\", \"última modificação\"))\n",
    "#----------------------------------------------------------------\n",
    "treeview.heading(\"#0\", text=\"Arquivo\")\n",
    "treeview.heading(\"tamanho\", text=\"Tamanho\")\n",
    "treeview.heading(\"última modificação\", text=\"Última modificação\")\n",
    "#----------------------------------------------------------------\n",
    "treeview.insert(\n",
    "    \"\",\n",
    "    tk.END,\n",
    "    text=\"README.txt\",\n",
    "    values=(\"850 bytes\", \"18:30\")\n",
    ")\n",
    "treeview.pack()\n",
    "\n",
    "root.mainloop()"
   ]
  },
  {
   "cell_type": "markdown",
   "id": "a7b69e79",
   "metadata": {},
   "source": [
    "Para acessar os valores das colunas de um determinado item, usa-se o método `set()` [tá de brincation uite me?]:\n",
    "\n",
    "```python\n",
    "item = treeview.insert(\n",
    "    \"\",\n",
    "    tk.END,\n",
    "    text=\"README.txt\",\n",
    "    values=(\"850 bytes\", \"18:30\")\n",
    ")\n",
    "# Imprime {'última modificação': '18:30', 'tamanho': '850 bytes'}\n",
    "print(treeview.set(item))\n",
    "```\n",
    "\n",
    "E como faz para mudar o valor?\n",
    "\n",
    "Neste caso o novo valor é passado como terceiro argumento:\n",
    "\n",
    "```python\n",
    "treeview.set(item, \"última modificação\", \"19:30\")\n",
    "```"
   ]
  },
  {
   "cell_type": "markdown",
   "id": "bb1dd150",
   "metadata": {},
   "source": [
    "### Ícones\n",
    "\n",
    "É possível acrescentar ícones também:"
   ]
  },
  {
   "cell_type": "code",
   "execution_count": 14,
   "id": "0f324557",
   "metadata": {},
   "outputs": [],
   "source": [
    "import tkinter as tk\n",
    "from tkinter import ttk\n",
    "\n",
    "root = tk.Tk()\n",
    "root.title(\"Treeview com ícones\")\n",
    "treeview = ttk.Treeview(columns=(\"tamanho\", \"última modificação\"))\n",
    "treeview.heading(\"#0\", text=\"Arquivo\")\n",
    "treeview.heading(\"tamanho\", text=\"Tamanho\")\n",
    "treeview.heading(\"última modificação\", text=\"Última modificação\")\n",
    "#-----------------------------------------\n",
    "icone = tk.PhotoImage(file=\"logo2_5pc.png\")\n",
    "#-----------------------------------------\n",
    "treeview.insert(\n",
    "    \"\",\n",
    "    tk.END,\n",
    "    text=\"README.txt\",\n",
    "    values=(\"850 bytes\", \"18:30\"),\n",
    "    image=icone\n",
    ")\n",
    "treeview.pack()\n",
    "\n",
    "root.mainloop()"
   ]
  },
  {
   "cell_type": "markdown",
   "id": "74f9c637",
   "metadata": {},
   "source": [
    "### Gerenciando seleção\n",
    "\n",
    "O método `selection()` retorna uma tupla que contém os IDs dos itens selecionados, ou uma tupla vazia se nenhum tiver sido selecionado. Por exemplo, no código a seguir o botão faz ser exibido em uma `message box` o texto do item selecionado:"
   ]
  },
  {
   "cell_type": "code",
   "execution_count": 18,
   "id": "75c8c29a",
   "metadata": {},
   "outputs": [],
   "source": [
    "import tkinter as tk\n",
    "from tkinter import messagebox, ttk\n",
    "\n",
    "def show_selection():\n",
    "    try:\n",
    "        # Pegando o ID do primeiro item selecionado\n",
    "        item = treeview.selection()[0]\n",
    "    except IndexError:\n",
    "        # Se a tupla estiver vazia, ou seja, sem itens selecionados\n",
    "        messagebox.showwarning(\n",
    "            message=\"Selecione ao menos um item.\",\n",
    "            title=\"Nada selecionado\"\n",
    "        )\n",
    "    else:\n",
    "        # Exibe o texto do item selecionado\n",
    "        text = treeview.item(item, option=\"text\")\n",
    "        messagebox.showinfo(message=text, title=\"Item Selecionado\")\n",
    "\n",
    "root = tk.Tk()\n",
    "root.title(\"Treeview selecionado\")\n",
    "#treeview = ttk.Treeview(selectmode=tk.BROWSE) --> forçando seleção de apenas 1\n",
    "treeview = ttk.Treeview()\n",
    "treeview.insert(\"\", tk.END, text=\"Item 1\")\n",
    "treeview.insert(\"\", tk.END, text=\"Item 2\")\n",
    "treeview.pack()\n",
    "button = ttk.Button(text=\"Mostrar itens selecionados\", command=show_selection)\n",
    "button.pack()\n",
    "\n",
    "root.mainloop()"
   ]
  },
  {
   "cell_type": "markdown",
   "id": "0a98b56c",
   "metadata": {},
   "source": [
    "Por padrão múltiplos itens podem ser selecionados. Para forçar que haja apenas uma seleção por vez, o valor `tk.BROWSE` deve ser passado para o parâmetro `selectmode`:\n",
    "\n",
    "```python\n",
    "treeview = ttk.Treeview(selectmode=tk.BROWSE)\n",
    "```\n",
    "\n",
    "Outras funções para lidar com itens selecionados:\n",
    "\n",
    "| **Método** | **Descrição** |\n",
    "|------------|---------------|\n",
    "| `selection_add()` | adiciona itens à seleção |\n",
    "| `selection_remove()` | remove itens da seleção |\n",
    "| `selection_set()` | semelhante ao `selecion_add()`, mas remove os itens selecionados previamente | \n",
    "| `selection_toggle()` | ativa a seleção de um item |"
   ]
  },
  {
   "cell_type": "code",
   "execution_count": null,
   "id": "52d406e8",
   "metadata": {},
   "outputs": [
    {
     "name": "stdout",
     "output_type": "stream",
     "text": [
      "Item I001 selecionado\n",
      "Item I001 selecionado\n",
      "Item I002 selecionado\n",
      "Item I002 selecionado\n",
      "Item I003 selecionado\n",
      "Item I003 selecionado\n",
      "Item I003 selecionado\n",
      "Item I001 selecionado\n",
      "Item I001 selecionado\n",
      "Item I001 selecionado\n"
     ]
    }
   ],
   "source": [
    "import tkinter as tk\n",
    "from tkinter import ttk\n",
    "        \n",
    "def selecionado(event):\n",
    "    print(f'Item {treeview.focus()} selecionado')\n",
    "    \n",
    "def desaperta():\n",
    "    itens = treeview.selection()\n",
    "    treeview.selection_toggle(itens)\n",
    "\n",
    "root = tk.Tk()\n",
    "root.title(\"Treeview selecionado\")\n",
    "treeview = ttk.Treeview()\n",
    "item1 = treeview.insert(\"\", tk.END, text=\"Item 1\")\n",
    "item11 = treeview.insert(item1, tk.END, text=\"Subitem 1.1\")\n",
    "\n",
    "item2 = treeview.insert(\"\", tk.END, text=\"Item 2\")\n",
    "item3 = treeview.insert(\"\", tk.END, text=\"Item 3\")\n",
    "item4 = treeview.insert(\"\", tk.END, text=\"Item 4\")\n",
    "\n",
    "treeview.bind(\"<<TreeviewSelect>>\", selecionado)\n",
    "treeview.pack()\n",
    "\n",
    "button = ttk.Button(text=\"Deselecionar o(s) item(ns) selecionado(s)\", command=desaperta)\n",
    "button.pack()\n",
    "\n",
    "root.mainloop()"
   ]
  },
  {
   "cell_type": "code",
   "execution_count": 3,
   "id": "050f9a89",
   "metadata": {},
   "outputs": [],
   "source": [
    "import tkinter as tk\n",
    "from tkinter import ttk\n",
    "\n",
    "def toggle_selection(event):\n",
    "    \"\"\"Toggles the selection of the clicked item in the Treeview.\"\"\"\n",
    "    item_id = tree.identify_row(event.y)\n",
    "    if item_id:  # Ensure an item was actually clicked\n",
    "        tree.selection_toggle(item_id)\n",
    "\n",
    "root = tk.Tk()\n",
    "root.title(\"Treeview Selection Toggle\")\n",
    "\n",
    "tree = ttk.Treeview(root, columns=(\"col1\", \"col2\"))\n",
    "tree.heading(\"#0\", text=\"Item\")\n",
    "tree.heading(\"col1\", text=\"Column 1\")\n",
    "tree.heading(\"col2\", text=\"Column 2\")\n",
    "\n",
    "# Insert some items\n",
    "tree.insert(\"\", tk.END, text=\"Item 1\", values=(\"Value A\", \"Value X\"))\n",
    "tree.insert(\"\", tk.END, text=\"Item 2\", values=(\"Value B\", \"Value Y\"))\n",
    "tree.insert(\"\", tk.END, text=\"Item 3\", values=(\"Value C\", \"Value Z\"))\n",
    "\n",
    "tree.pack(pady=10)\n",
    "\n",
    "# Bind a mouse click event to the Treeview\n",
    "tree.bind(\"<Button-1>\", toggle_selection)\n",
    "\n",
    "root.mainloop()"
   ]
  },
  {
   "cell_type": "markdown",
   "id": "6c38d765",
   "metadata": {},
   "source": [
    "### Eventos\n",
    "\n",
    "É possível capturar os eventos de seleção de item e, se ele tiver subitens, o evento de ser aberto ou fechado. Os eventos são: `<<TreeviewSelect>>`, `<<TreeviewOpen>>` e `<<TreeviewClose>>`:"
   ]
  },
  {
   "cell_type": "code",
   "execution_count": 24,
   "id": "e99cee93",
   "metadata": {},
   "outputs": [
    {
     "name": "stdout",
     "output_type": "stream",
     "text": [
      "Abrido.\n",
      "Selecionado.\n",
      "Selecionado.\n",
      "Selecionado.\n",
      "Selecionado.\n",
      "Fecho.\n",
      "Selecionado.\n",
      "Abrido.\n",
      "Selecionado.\n",
      "Selecionado.\n"
     ]
    }
   ],
   "source": [
    "import tkinter as tk\n",
    "from tkinter import ttk\n",
    "\n",
    "def item_selected(event):\n",
    "    print(\"Selecionado.\")\n",
    "\n",
    "def item_opened(event):\n",
    "    print(\"Abrido.\")\n",
    "\n",
    "def item_closed(event):\n",
    "    print(\"Fecho.\")\n",
    "\n",
    "root = tk.Tk()\n",
    "root.title(\"Treeview com evento\")\n",
    "treeview = ttk.Treeview()\n",
    "# Criando uma tag para manipular os itens e eventos corretos\n",
    "treeview.tag_bind(\"minhatag\", \"<<TreeviewSelect>>\", item_selected)\n",
    "treeview.tag_bind(\"minhatag\", \"<<TreeviewOpen>>\", item_opened)\n",
    "treeview.tag_bind(\"minhatag\", \"<<TreeviewClose>>\", item_closed)\n",
    "\n",
    "# Criando dois itens com as tags\n",
    "item = treeview.insert(\"\", tk.END, text=\"Item 1\", tags=(\"minhatag\",))\n",
    "treeview.insert(item, tk.END, text=\"Subitem 1\", tags=(\"minhatag\",))\n",
    "treeview.pack()\n",
    "\n",
    "root.mainloop()"
   ]
  },
  {
   "cell_type": "markdown",
   "id": "a8916177",
   "metadata": {},
   "source": [
    "## Exercícios\n",
    "\n",
    "### Questões Fáceis (1-15)\n",
    "Essas questões focam em operações básicas de criação, inserção e exibição de itens no ttk.TreeView.\n",
    "\n",
    "1. Crie um script simples que abra uma janela Tkinter e adicione um ttk.TreeView vazio à interface.\n",
    "\n",
    "2. Insira um item raiz no TreeView com o texto \"Raiz Principal\" e exiba a janela.\n",
    "\n",
    "3. Adicione dois itens filhos sob o item raiz \"Raiz Principal\", com textos \"Filho 1\" e \"Filho 2\".\n",
    "\n",
    "4. Configure o TreeView para exibir uma coluna adicional além da padrão e insira dados nessa coluna para um item.\n",
    "\n",
    "5. Crie um TreeView com três itens de nível raiz: \"Item A\", \"Item B\" e \"Item C\".\n",
    "\n",
    "6. Insira um item filho em \"Item A\" com valores em duas colunas: \"Nome: João\" e \"Idade: 25\".\n",
    "\n",
    "7. Expanda todos os itens do TreeView programaticamente ao iniciar a aplicação.\n",
    "\n",
    "8. Defina o título das colunas no TreeView como \"Nome\" e \"Valor\" e insira um item de exemplo.\n",
    "\n",
    "9. Crie um TreeView e insira itens de uma lista simples: [\"Maçã\", \"Banana\", \"Laranja\"] como itens raiz.\n",
    "\n",
    "10. Adicione um botão que insira um novo item raiz com texto \"Novo Item\" quando clicado.\n",
    "\n",
    "11. Configure o TreeView para ser redimensionável e exiba uma janela com um item expandido.\n",
    "\n",
    "12. Insira itens hierárquicos simulando uma estrutura de pastas: \"Pasta1\" > \"Arquivo1.txt\".\n",
    "\n",
    "13. Defina a largura de uma coluna no TreeView para 200 pixels e insira dados nela.\n",
    "\n",
    "14. Crie um TreeView com scrollbars verticais e insira 10 itens para testar o scroll.\n",
    "\n",
    "15. Imprima no console o texto do item selecionado quando o usuário clicar em um item do TreeView."
   ]
  },
  {
   "cell_type": "code",
   "execution_count": null,
   "id": "e931d9f8",
   "metadata": {},
   "outputs": [],
   "source": [
    "# ..."
   ]
  },
  {
   "cell_type": "markdown",
   "id": "95e2fa46",
   "metadata": {},
   "source": [
    "### Questões de Dificuldade Média (16-25)\n",
    "Essas questões envolvem manipulação avançada, como edição, busca, ordenação e eventos.\n",
    "\n",
    "16. Implemente um evento de duplo clique no TreeView que edite o texto do item selecionado em uma Entry popup.\n",
    "\n",
    "17. Ordene os itens filhos de um nó específico alfabeticamente pela primeira coluna ao expandir o nó.\n",
    "\n",
    "18. Filtre os itens do TreeView para mostrar apenas aqueles que contenham uma palavra digitada em uma Entry de busca.\n",
    "\n",
    "19. Adicione uma funcionalidade para deletar o item selecionado com um botão \"Remover\".\n",
    "\n",
    "20. Carregue dados de uma lista de dicionários em um TreeView com múltiplas colunas, usando o cabeçalho dos dicionários.\n",
    "\n",
    "21. Implemente um contador no rodapé da janela que mostre o número total de itens visíveis no TreeView.\n",
    "\n",
    "22. Permita a edição inline de células em colunas específicas do TreeView usando binds de eventos.\n",
    "\n",
    "23. Crie um menu de contexto (right-click) no TreeView com opções \"Renomear\" e \"Excluir\".\n",
    "\n",
    "24. Sincronize dois TreeViews: ao selecionar um item em um, destaque o correspondente no outro.\n",
    "\n",
    "25. Adicione checkboxes (usando imagem ou texto) em uma coluna do TreeView e conte os selecionados."
   ]
  },
  {
   "cell_type": "code",
   "execution_count": null,
   "id": "dc5cea30",
   "metadata": {},
   "outputs": [],
   "source": [
    "# ..."
   ]
  },
  {
   "cell_type": "markdown",
   "id": "407af2e9",
   "metadata": {},
   "source": [
    "### Questões de Dificuldade Alta (26-30)\n",
    "Essas questões demandam complexidade maior, como personalização avançada, desempenho e integração.\n",
    "\n",
    "26. Implemente drag-and-drop entre itens do TreeView, permitindo reorganizar a hierarquia de forma visual.\n",
    "\n",
    "27. Crie um TreeView virtual para lidar com milhares de itens sem carregar tudo na memória, usando lazy loading.\n",
    "\n",
    "28. Integre o TreeView com uma base de dados SQLite: carregue e salve alterações na hierarquia em uma tabela.\n",
    "\n",
    "29. Desenvolva um renderizador customizado para células do TreeView, colorindo linhas baseadas em valores numéricos.\n",
    "\n",
    "30. Construa um TreeView editável com validação: ao editar uma célula numérica, verifique se é positiva e atualize somas em um label."
   ]
  },
  {
   "cell_type": "code",
   "execution_count": null,
   "id": "cdac3e31",
   "metadata": {},
   "outputs": [],
   "source": [
    "# ..."
   ]
  }
 ],
 "metadata": {
  "kernelspec": {
   "display_name": "POO II",
   "language": "python",
   "name": "python3"
  },
  "language_info": {
   "codemirror_mode": {
    "name": "ipython",
    "version": 3
   },
   "file_extension": ".py",
   "mimetype": "text/x-python",
   "name": "python",
   "nbconvert_exporter": "python",
   "pygments_lexer": "ipython3",
   "version": "3.13.3"
  }
 },
 "nbformat": 4,
 "nbformat_minor": 5
}
