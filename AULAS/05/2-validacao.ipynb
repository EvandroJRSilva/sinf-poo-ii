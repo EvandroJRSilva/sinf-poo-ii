{
 "cells": [
  {
   "cell_type": "markdown",
   "id": "4d851b72",
   "metadata": {},
   "source": [
    "# Aula 05\n",
    "\n",
    "## Validação\n",
    "\n",
    "A validação dos dados é fundamental em qualquer aplicativo que permita entrada de dados fornecidos pelo usuário. Normalmente a validação é feita na camada View, antes de os dados serem enviados para a camada Model.\n",
    "\n",
    "A validação no Tkinter é feita a partir de três opções que podem ser utilizadas em qualquer `widget` de input, como o `Entry`:\n",
    "\n",
    "- `validate`: especifica que tipo de evento dispara a validação. Valores possíveis:\n",
    "  - `focus`: o `widget` fica, ou deixa de estar selecionado.\n",
    "  - `focusin`: o `widget` fica em foco, ou seja, é selecionado.\n",
    "  - `focusout`: o `widget` deixa de ser selecionado.\n",
    "  - `key`: o conteúdo o `widget` é modificado a partir de qualquer botão/tecla pressionado(a).\n",
    "  - `all`: corresponde a todos os eventos acima.\n",
    "  - `none`: \"desliga\" a validação, ou seja, nenhum evento dispara a validação. É o valor padrão.\n",
    "- `validatecommand`: verifica se um dado é válido.\n",
    "  - É uma tupla que contém uma referência a uma função Tcl/tk (método `register`), e zero ou mais códigos de substituição que especificam a informação que dispara o evento a ser passado a ser passado para a função. Códigos de substituição:\n",
    "    - `%d`: é um código de ação; 0 para uma tentavia de exclusão, 1 para uma tentativa de inserção, ou -1 se a função foi chamada para `focusin`, `focusout`, ou alguma modificanação na `textvariable`.\n",
    "    - `%i`: quando o usuário tenta inserir ou excluir um texto, este argumento será o índice do começão da inserção/exclusão. Se a função foi chamada por causa de `focusin`, `focusout`, ou alguma modificanação na `textvariable`, seu valor será -1.\n",
    "    - `%P`: o valor que o texto terá se a modificação é permitida.\n",
    "    - `%s`: o texto no `Entry` antes da modificação.\n",
    "    - `%S`: se a função foi chamada por causa de uma inserção ou exclusão, este argumento será o texto que está sendo inserido ou excluído.\n",
    "    - `%v`: o valor atual da opção `validate` do respectivo `widget`.\n",
    "    - `%V`: o motivo da chamada da função: `focusin`, `focusout`, `key` ou `forced` se `textvariable` foi modificada.\n",
    "    - `%W`: o nome do `widget`.\n",
    "    - Exemplo: `vcmd = (self.register(self.validate), '%P')`\n",
    "      - `vcmd` é o `validatecommand`.\n",
    "- `invalidcommand`: comando que será executado se os dados são inválidos.\n",
    "  - Basicamente o mesmo de `validatecommand`.\n",
    "  - Ex.: `ivcmd = (self.register(self.on_invalid),)`."
   ]
  },
  {
   "cell_type": "markdown",
   "id": "2f2b807d",
   "metadata": {},
   "source": [
    "### Exemplo"
   ]
  },
  {
   "cell_type": "code",
   "execution_count": 1,
   "id": "02408fbf",
   "metadata": {},
   "outputs": [],
   "source": [
    "import tkinter as tk\n",
    "from tkinter import ttk\n",
    "import re\n",
    "\n",
    "\n",
    "class App(tk.Tk):\n",
    "    def __init__(self):\n",
    "        super().__init__()\n",
    "\n",
    "        self.title('Tkinter Validação')\n",
    "\n",
    "        self.create_widgets()\n",
    "\n",
    "    def create_widgets(self):\n",
    "        self.columnconfigure(0, weight=1)\n",
    "        self.columnconfigure(1, weight=3)\n",
    "        self.columnconfigure(2, weight=1)\n",
    "\n",
    "        # Label\n",
    "        ttk.Label(text='Email:').grid(row=0, column=0, padx=5, pady=5)\n",
    "\n",
    "        # Entry --> e-mail\n",
    "        vcmd = (self.register(self.validate), '%P')\n",
    "        ivcmd = (self.register(self.on_invalid),)\n",
    "\n",
    "        self.email_entry = ttk.Entry(self, width=50)\n",
    "        self.email_entry.config(validate='focusout', validatecommand=vcmd, invalidcommand=ivcmd)\n",
    "        self.email_entry.grid(row=0, column=1, columnspan=2, padx=5)\n",
    "\n",
    "        self.label_error = ttk.Label(self, foreground='red')\n",
    "        self.label_error.grid(row=1, column=1, sticky=tk.W, padx=5)\n",
    "\n",
    "        # Button\n",
    "        self.send_button = ttk.Button(text='Enviar').grid(row=0, column=4, padx=5)\n",
    "\n",
    "    def show_message(self, error='', color='black'):\n",
    "        self.label_error['text'] = error\n",
    "        self.email_entry['foreground'] = color\n",
    "\n",
    "    def validate(self, value):\n",
    "        \"\"\"\n",
    "        Valida o e-mail, passado através de 'value'\n",
    "        \"\"\"\n",
    "        pattern = r'\\b[A-Za-z0-9._%+-]+@[A-Za-z0-9.-]+\\.[A-Z|a-z]{2,}\\b'\n",
    "        if re.fullmatch(pattern, value) is None:\n",
    "            return False\n",
    "\n",
    "        self.show_message()\n",
    "        return True\n",
    "\n",
    "    def on_invalid(self):\n",
    "        \"\"\"\n",
    "        Exibe a mensagem de erro se os dados forem inválidos\n",
    "        \"\"\"\n",
    "        self.show_message('Por favor, insira um e-mail válido', 'red')\n",
    "\n",
    "\n",
    "if __name__ == '__main__':\n",
    "    app = App()\n",
    "    app.mainloop()"
   ]
  },
  {
   "cell_type": "markdown",
   "id": "d2d838a5",
   "metadata": {},
   "source": [
    "## Exercícios\n",
    "\n",
    "### Fáceis\n",
    "\n",
    "1. **Aceitar apenas dígitos**\n",
    "   Crie um `Entry` que aceita somente caracteres dígitos (`0-9`). Se o usuário digitar uma letra, a entrada não deve aceitá-la (uso de `validate=\"key\"`).\n",
    "\n",
    "2. **Aceitar apenas letras**\n",
    "   Crie um `Entry` que permite apenas caracteres alfabéticos (`a-z` / `A-Z`). Letras acentuadas podem ou não ser permitidas, conforme sua preferência.\n",
    "\n",
    "3. **Campo obrigatório (não vazio)**\n",
    "   Crie um formulário com um `Entry`. Quando o usuário perder o foco (validate = “focusout”), se o campo estiver vazio, exiba uma mensagem de erro (por exemplo, mudar cor da borda ou via `invalidcommand`).\n",
    "\n",
    "4. **Limitar tamanho máximo**\n",
    "   Crie um `Entry` que não aceita mais de 10 caracteres — ou seja, se digitar além disso, a validação impede.\n",
    "\n",
    "5. **Número inteiro positivo**\n",
    "   Crie um `Entry` que aceita apenas números inteiros positivos (sem sinal “-”) via tecla.\n",
    "\n",
    "6. **Número decimal simples**\n",
    "   Crie um `Entry` que aceita números decimais (ex: “12.34”) — permitir dígitos e no máximo um ponto (\".\").\n",
    "\n",
    "7. **Validação de faixa**\n",
    "   Um `Entry` aceita apenas números entre 1 e 100. Se o usuário digitar algo fora desse intervalo, a validação falha (ou exibe aviso).\n",
    "\n",
    "8. **Email simples**\n",
    "   Simule uma validação básica de email (verificar que tenha “@” e “.”) no momento de submeter formulário, não em tempo real.\n",
    "\n",
    "9. **Telefone (número fixo de dígitos)**\n",
    "   Campo `Entry` que aceita exatamente, por exemplo, 8 dígitos ou 10 dígitos (somente dígitos). Se for digitado menos ou mais, mostrar erro.\n",
    "\n",
    "10. **Senha mínima**\n",
    "    Crie um `Entry` de senha (com `show=\"*\"`), e ao sair do campo, validar que tenha pelo menos 6 caracteres, senão indicar ao usuário que é insuficiente.\n",
    "\n",
    "11. **Comparar duas senhas**\n",
    "    Dois campos: “Senha” e “Confirmar senha”. Ao submeter, validar se são iguais, caso contrário mostrar mensagem de erro.\n",
    "\n",
    "12. **Nome com espaços**\n",
    "    Permitir que o usuário digite espaços entre palavras, mas impedir que o campo comece ou termine com espaço (trim automático ou rejeitar espaços iniciais/finais)."
   ]
  },
  {
   "cell_type": "code",
   "execution_count": null,
   "id": "07f57c1c",
   "metadata": {},
   "outputs": [],
   "source": [
    "# ..."
   ]
  },
  {
   "cell_type": "markdown",
   "id": "18ad09a1",
   "metadata": {},
   "source": [
    "### Médios\n",
    "\n",
    "13. **Validação em tempo real com retorno falso**\n",
    "    Use `validate=\"key\"` com `validatecommand` que recebe `%P` (novo valor proposto). Se for inválido, retorne `False` para impedir a mudança. Por exemplo, permitir só dígitos ou vazio.\n",
    "\n",
    "14. **Invalidcommand para feedback visual**\n",
    "    Para um `Entry`, configure `invalidcommand` de modo que, ao digitar algo inválido, mude a cor de fundo do campo para vermelho, e que retorne à cor normal quando válido.\n",
    "\n",
    "15. **Validação de formulário completo**\n",
    "    Crie um formulário com vários campos (nome, email, telefone, senha). Ao clicar “Enviar”, validar todos os campos (cada um com suas regras) e mostrar mensagens específicas para cada erro.\n",
    "\n",
    "16. **Validação dependente de outro campo**\n",
    "    Por exemplo: se um checkbox “Receber newsletter” estiver marcado, o campo “Email” torna-se obrigatório; caso contrário, email pode ficar vazio. Validar ao submeter.\n",
    "\n",
    "17. **Uso de `trace()` em `StringVar`**\n",
    "    Associe o texto do `Entry` a um `StringVar`. Use `trace(\"w\")` para monitorar mudanças e rejeitar (ou corrigir) entradas inválidas.\n",
    "\n",
    "18. **Entrada formatada (mascara)**\n",
    "    Por exemplo, telefone com máscara `(XX) XXXX-XXXX`: enquanto usuário digita, inserir parênteses e hífen automaticamente, validando os digitos.\n",
    "\n",
    "19. **Validação de número com limites dinâmicos**\n",
    "    Dois campos: “Min” e “Max”. Um terceiro campo “Valor” só aceita números entre Min e Max, cujos valores vêm dos outros dois campos (validação dinâmica).\n",
    "\n",
    "20. **Validação com regex**\n",
    "    Use expressão regular (via `re`) para validar um campo (por exemplo email mais complexo ou código postal) no momento de submeter ou em foco-out."
   ]
  },
  {
   "cell_type": "code",
   "execution_count": null,
   "id": "5728efed",
   "metadata": {},
   "outputs": [],
   "source": [
    "# ..."
   ]
  },
  {
   "cell_type": "markdown",
   "id": "65067223",
   "metadata": {},
   "source": [
    "### Difíceis\n",
    "\n",
    "21. **Campo monetário com formatação**\n",
    "    Campo `Entry` que aceita apenas dígitos e ponto decimal, e formata automaticamente (ex: “1,234.56”) enquanto digita ou quando perde foco.\n",
    "\n",
    "22. **Validação de formulário com realimentação e foco em erro**\n",
    "    Em um formulário com múltiplos campos, ao clicar “Submeter”, validar todos. Se houver erro, focar no primeiro campo com problema, mostrar tooltip ou label de erro próximo ao campo, sem interromper a validação dos demais (mostrar todos os erros).\n",
    "\n",
    "23. **Validação com bloqueio progressivo**\n",
    "    Em um `Entry` com `validate=\"key\"`, se o usuário digitar algo inválido, rejeitar e salvar o valor antigo, de modo que ele possa desfazer (ex: entrada de número decimal mas impedir letras). Além disso, permitir que colas e recortes funcionem corretamente.\n",
    "\n",
    "24. **Formulário completo com requisições externas simuladas e validação assíncrona**\n",
    "    Por exemplo: um formulário de “usuário” onde o campo “nome de usuário” precisa ser verificado contra um “banco de dados” simulado (em outra thread ou via simulação de delay). Ao perder foco no campo “nome de usuário”, disparar verificação (simulada) e mostrar (via callback) se o nome já está em uso. Enquanto verifica, mostrar indicação “verificando...”."
   ]
  },
  {
   "cell_type": "code",
   "execution_count": null,
   "id": "e318de83",
   "metadata": {},
   "outputs": [],
   "source": [
    "# ..."
   ]
  },
  {
   "cell_type": "markdown",
   "id": "256b87d7",
   "metadata": {},
   "source": [
    "### Desafios\n",
    "\n",
    "**Exercício A: Formulário de Cadastro Completo com Validação e Estilo**\n",
    "Monte uma aplicação orientada a objetos (classe App) que apresente um formulário de cadastro contendo campos como:\n",
    "\n",
    "* Nome (somente letras e espaço)\n",
    "* Email (validar padrão)\n",
    "* Idade (inteiro entre 0 e 120)\n",
    "* Senha / Confirmar senha\n",
    "* Telefone (máscara)\n",
    "* Seleção de gênero (radiobutton)\n",
    "* Checkbox para aceitar termos\n",
    "\n",
    "A interface deve usar `ttk` e estilos personalizados (cores, fontes) (Seção de Themes & Styles).\n",
    "Utilize validação em tempo real ou ao perder foco, com feedback visual (campo em vermelho, mensagens).\n",
    "Ao clicar “Cadastrar”, valide tudo, e se estiver correto, mostre mensagem de sucesso, caso contrário destaque os erros e foque no primeiro campo com problema.\n",
    "Opcional: simular verificação de email (em thread) para não travar a interface."
   ]
  },
  {
   "cell_type": "code",
   "execution_count": null,
   "id": "b933ce9a",
   "metadata": {},
   "outputs": [],
   "source": [
    "# ..."
   ]
  },
  {
   "cell_type": "markdown",
   "id": "85622783",
   "metadata": {},
   "source": [
    "**Exercício B: Aplicativo de Conversão com Validação e Visual Dinâmico**\n",
    "Crie uma aplicação OOP com tela principal e subsistemas:\n",
    "\n",
    "* Seção para converter unidades (temperatura, distância) com `Entry` + botão converter\n",
    "* Valide entradas (números, limites)\n",
    "* Use `after()` para permitir que, se o usuário deixar o campo vazio por 5 segundos, aparecer dica ou preencher valor padrão\n",
    "* Use thread (se for converter algo “pesado”, como cálculo de raiz ou simulação) para não travar\n",
    "* Interface com `ttk`, uso de estilos, menus (menu para “Arquivo → Sair”, “Ajuda → Sobre”)\n",
    "* Use Frames para organizar a UI (seção de entrada, seção de resultado)\n",
    "* Se o usuário selecionar “Tema Escuro” via menu ou checkbox, troque estilo dinamicamente"
   ]
  },
  {
   "cell_type": "code",
   "execution_count": null,
   "id": "cca4c998",
   "metadata": {},
   "outputs": [],
   "source": [
    "# ..."
   ]
  }
 ],
 "metadata": {
  "kernelspec": {
   "display_name": "POO II",
   "language": "python",
   "name": "python3"
  },
  "language_info": {
   "codemirror_mode": {
    "name": "ipython",
    "version": 3
   },
   "file_extension": ".py",
   "mimetype": "text/x-python",
   "name": "python",
   "nbconvert_exporter": "python",
   "pygments_lexer": "ipython3",
   "version": "3.13.3"
  }
 },
 "nbformat": 4,
 "nbformat_minor": 5
}
