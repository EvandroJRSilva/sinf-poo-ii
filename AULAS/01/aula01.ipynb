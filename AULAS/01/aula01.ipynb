{
 "cells": [
  {
   "cell_type": "markdown",
   "id": "ed1e5df9",
   "metadata": {},
   "source": [
    "# Aula 01\n",
    "\n",
    "## Tkinter\n",
    "\n",
    "É um módulo para interface gráfica que já vem na instalação do Python. Por isso iremos vê-lo com mais detalhes (porém, nada impede que você procure conhecer as alternativas mais a fundo).\n",
    "\n",
    "Algumas fontes/materiais:\n",
    "\n",
    "- [Documentação oficial](https://docs.python.org/pt-br/3.13/library/tkinter.html).\n",
    "  - Detalhes sobre o que é o Tkinter, como funciona, arquitetura, etc.\n",
    "  - Bom para ser usado para referência.\n",
    "- [TkDocs](https://tkdocs.com/tutorial/index.html).\n",
    "  - 2 a 3 seções/aula\n",
    "- [Tkinter Tutorial - Python Tutorial](https://www.pythontutorial.net/tkinter/).\n",
    "  - 2 seções/aula\n",
    "- [Python GUI Programming: Your Tkinter Tutorial - Real Python](https://realpython.com/python-gui-tkinter/).\n",
    "  - ~ 1 seção/aula\n",
    "- [Python Tkinter Tutorial - Geeks for Geeks](https://www.geeksforgeeks.org/python/python-tkinter-tutorial/).\n",
    "  - Bom para ser usado para referência.\n",
    "\n",
    "O [tutorial](https://www.pythontutorial.net/tkinter/) do site **Python Tutorial** é mais adequado para a nossa disciplina.\n",
    "\n",
    "---"
   ]
  },
  {
   "cell_type": "markdown",
   "id": "9b6d0665",
   "metadata": {},
   "source": [
    "### Hello World"
   ]
  },
  {
   "cell_type": "code",
   "execution_count": 1,
   "id": "a750712b",
   "metadata": {},
   "outputs": [],
   "source": [
    "import tkinter as tk\n",
    "\n",
    "root = tk.Tk()\n",
    "root.mainloop()"
   ]
  },
  {
   "cell_type": "markdown",
   "id": "0654a70e",
   "metadata": {},
   "source": [
    "#### Label"
   ]
  },
  {
   "cell_type": "code",
   "execution_count": 7,
   "id": "0fc1e408",
   "metadata": {},
   "outputs": [],
   "source": [
    "import tkinter as tk\n",
    "\n",
    "root = tk.Tk()\n",
    "\n",
    "# Inserindo um rótulo (label) na janela\n",
    "message = tk.Label(root, text=\"Hello, World!\")\n",
    "message.pack()\n",
    "\n",
    "root.mainloop()"
   ]
  },
  {
   "cell_type": "markdown",
   "id": "7488e158",
   "metadata": {},
   "source": [
    "---"
   ]
  },
  {
   "cell_type": "markdown",
   "id": "807bdd7e",
   "metadata": {},
   "source": [
    "### Window\n",
    "\n",
    "**Objetivo**: manipular vários atributos de uma janela do Tkinter.\n",
    "\n",
    "[Clique aqui](https://tkdocs.com/pyref/tk.html) para ver a `API Reference` da classe `Tk` (métodos e parâmetros)."
   ]
  },
  {
   "cell_type": "code",
   "execution_count": 6,
   "id": "d55e4a06",
   "metadata": {},
   "outputs": [],
   "source": [
    "import tkinter as tk\n",
    "\n",
    "root = tk.Tk()\n",
    "\n",
    "root.title(\"Minha Primeira Janelinha\")\n",
    "\n",
    "root.mainloop()"
   ]
  },
  {
   "cell_type": "markdown",
   "id": "ad285223",
   "metadata": {},
   "source": [
    "#### Tamanho e localização\n",
    "\n",
    "![](Tkinter-Window-Geometry.png)\n",
    "\n",
    "`widthxheight±x±y`\n",
    "\n",
    "- `width`: comprimento em pixels.\n",
    "- `height`: altura em pixels.\n",
    "- `±x`: acrescentar ou diminutir **x** pixels ao comprimento.\n",
    "- `±y`: acrescentar ou diminutir **y** pixels à altura."
   ]
  },
  {
   "cell_type": "code",
   "execution_count": 12,
   "id": "949e86e4",
   "metadata": {},
   "outputs": [],
   "source": [
    "import tkinter as tk\n",
    "\n",
    "root = tk.Tk()\n",
    "root.title(\"Janela com tamano definido\")\n",
    "root.geometry(\"600x400+400+400\")\n",
    "\n",
    "root.mainloop()"
   ]
  },
  {
   "cell_type": "markdown",
   "id": "e94b666e",
   "metadata": {},
   "source": [
    "#### Centralizando a janela na tela"
   ]
  },
  {
   "cell_type": "code",
   "execution_count": 15,
   "id": "81db2518",
   "metadata": {},
   "outputs": [],
   "source": [
    "import tkinter as tk\n",
    "\n",
    "\n",
    "root = tk.Tk()\n",
    "root.title('Tkinter Window - Center')\n",
    "\n",
    "window_width = 600\n",
    "window_height = 400\n",
    "\n",
    "# get the screen dimension\n",
    "screen_width = root.winfo_screenwidth()\n",
    "screen_height = root.winfo_screenheight()\n",
    "\n",
    "# find the center point\n",
    "center_x = int(screen_width/2 - window_width / 2)\n",
    "center_y = int(screen_height/2 - window_height / 2)\n",
    "\n",
    "# set the position of the window to the center of the screen\n",
    "root.geometry(f'{window_width}x{window_height}+{center_x}+{center_y}')\n",
    "\n",
    "\n",
    "root.mainloop()"
   ]
  },
  {
   "cell_type": "markdown",
   "id": "18669672",
   "metadata": {},
   "source": [
    "![](window-center.png)"
   ]
  },
  {
   "cell_type": "markdown",
   "id": "3a1faa5b",
   "metadata": {},
   "source": [
    "#### Redimensionamento"
   ]
  },
  {
   "cell_type": "code",
   "execution_count": 16,
   "id": "6f308a57",
   "metadata": {},
   "outputs": [],
   "source": [
    "import tkinter as tk\n",
    "\n",
    "root = tk.Tk()\n",
    "root.title(\"Janela sem redimensionamento\")\n",
    "root.geometry(\"600x400+50+50\")\n",
    "\n",
    "# Impede o redimensionamento da janela (x, y)\n",
    "root.resizable(False, False)\n",
    "\n",
    "root.mainloop()"
   ]
  },
  {
   "cell_type": "code",
   "execution_count": 17,
   "id": "6e6fd92c",
   "metadata": {},
   "outputs": [],
   "source": [
    "import tkinter as tk\n",
    "\n",
    "root = tk.Tk()\n",
    "root.title(\"Janela com redimensionamento de comprimento\")\n",
    "root.geometry(\"600x400+50+50\")\n",
    "\n",
    "# Permite redimensionar o comprimento (x), mas não a altura (y)\n",
    "root.resizable(True, False)\n",
    "\n",
    "root.mainloop()"
   ]
  },
  {
   "cell_type": "code",
   "execution_count": null,
   "id": "f7a6db41",
   "metadata": {},
   "outputs": [],
   "source": [
    "import tkinter as tk\n",
    "\n",
    "root = tk.Tk()\n",
    "root.title(\"Janela com redimensionamento de altura\")\n",
    "root.geometry(\"600x400+50+50\")\n",
    "\n",
    "# Permite redimensionar a altura (y), mas não o comprimento (x)\n",
    "root.resizable(False, True)\n",
    "\n",
    "root.mainloop()"
   ]
  },
  {
   "cell_type": "code",
   "execution_count": null,
   "id": "4d6a3b44",
   "metadata": {},
   "outputs": [],
   "source": [
    "import tkinter as tk\n",
    "\n",
    "root = tk.Tk()\n",
    "root.title(\"Janela com redimensionamento\")\n",
    "root.geometry(\"600x400+50+50\")\n",
    "\n",
    "# Permite redimensionar a janela (x, y)\n",
    "root.resizable(True, True)\n",
    "\n",
    "root.mainloop()"
   ]
  },
  {
   "cell_type": "markdown",
   "id": "83984308",
   "metadata": {},
   "source": [
    "#### Tamanhos mínimo e máximo"
   ]
  },
  {
   "cell_type": "code",
   "execution_count": 18,
   "id": "880f696d",
   "metadata": {},
   "outputs": [],
   "source": [
    "import tkinter as tk\n",
    "\n",
    "root = tk.Tk()\n",
    "root.title(\"Janela com tamanhos máximo e mínimo definidos\")\n",
    "root.geometry(\"600x400+50+50\")\n",
    "\n",
    "# Permite redimensionar a janela (x, y)\n",
    "root.resizable(True, True)\n",
    "\n",
    "root.minsize(300, 200)\n",
    "root.maxsize(800, 600)\n",
    "\n",
    "root.mainloop()"
   ]
  },
  {
   "cell_type": "markdown",
   "id": "2d7935c3",
   "metadata": {},
   "source": [
    "#### Transparência"
   ]
  },
  {
   "cell_type": "code",
   "execution_count": 11,
   "id": "21c3b23f",
   "metadata": {},
   "outputs": [],
   "source": [
    "import tkinter as tk\n",
    "\n",
    "root = tk.Tk()\n",
    "root.title('Janela com transparência')\n",
    "root.geometry('600x400+50+50')\n",
    "root.resizable(False, False)\n",
    "\n",
    "# 0.0 (invisível) to 1.0 (opaco)\n",
    "root.attributes('-alpha', 0.5)\n",
    "\n",
    "root.mainloop()"
   ]
  },
  {
   "cell_type": "markdown",
   "id": "59908824",
   "metadata": {},
   "source": [
    "Para funcionar no linux, é preciso uma linha extra"
   ]
  },
  {
   "cell_type": "code",
   "execution_count": null,
   "id": "2f82d91a",
   "metadata": {},
   "outputs": [],
   "source": [
    "import tkinter as tk\n",
    "\n",
    "root = tk.Tk()\n",
    "root.title(\"Janela transparente\")\n",
    "root.geometry('600x400+500+200')\n",
    "root.resizable(False, False)\n",
    "\n",
    "# É necessária a linha seguinte para funcionar no linux\n",
    "root.wait_visibility(root)\n",
    "# Funciona no Windows só com a linha seguinte\n",
    "root.wm_attributes('-alpha', 0.5)\n",
    "\n",
    "\n",
    "root.mainloop()\n"
   ]
  },
  {
   "cell_type": "markdown",
   "id": "d28466c0",
   "metadata": {},
   "source": [
    "#### Ordem de empilhamento de janelas\n",
    "\n",
    "A ordem de empilhamento se refere à ordem em que as janelas estão dispostas na tela, de cima para baixo. A janela mais próxima do topo da tela fica sobreposta da janela mais para baixo.\n",
    "\n",
    "Para garantir que uma janela sempre esteja no topo da pilha precisamos usar o atributo `-topmost`:\n",
    "\n",
    "```python\n",
    "window.atributes('-topmost', 1)\n",
    "```\n",
    "\n",
    "Para mover uma janela para cima ou para baixo na pilha, basta utilizar os métodos `lift()` e `lower()`.\n",
    "\n",
    "```python\n",
    "window.lift()\n",
    "window.lift(outra_janela)\n",
    "\n",
    "window.lower()\n",
    "window.lower(outra_janela)\n",
    "```"
   ]
  },
  {
   "cell_type": "markdown",
   "id": "0f6a00e6",
   "metadata": {},
   "source": [
    "#### Mudando o ícone padrão\n",
    "\n",
    "No meu SO não funciona 😭"
   ]
  },
  {
   "cell_type": "code",
   "execution_count": 22,
   "id": "9bda78b9",
   "metadata": {},
   "outputs": [],
   "source": [
    "import tkinter as tk\n",
    "\n",
    "\n",
    "root = tk.Tk()\n",
    "root.title('Janela com ícone personalizado')\n",
    "root.geometry('600x400+50+50')\n",
    "root.resizable(False, False)\n",
    "\n",
    "try:\n",
    "    foto = tk.PhotoImage(file='./logo2.png')\n",
    "    root.iconphoto(False, foto)\n",
    "except tk.TclError as e:\n",
    "    print(\"Erro ao carregar a imagem:\", e)\n",
    "\n",
    "root.mainloop()"
   ]
  },
  {
   "cell_type": "markdown",
   "id": "35a952ed",
   "metadata": {},
   "source": [
    "---"
   ]
  },
  {
   "cell_type": "markdown",
   "id": "204be69d",
   "metadata": {},
   "source": [
    "### Tk themed (ttk) widgets\n",
    "\n",
    "**Objetivo**: utilizar os vários widgets `ttk`.\n",
    "\n",
    "Widgets que o `ttk` substitui:\n",
    "\n",
    "- Button\n",
    "- Checkbutton\n",
    "- Entry\n",
    "- Frame\n",
    "- Label\n",
    "- LabelFrame\n",
    "- Meubutton\n",
    "- PanedWindow\n",
    "- Radiobutton\n",
    "- Scale\n",
    "- Scrollbar\n",
    "- Spinbox\n",
    "\n",
    "Widgets exclusivos do `ttk`:\n",
    "\n",
    "- Combobox\n",
    "- Notebook\n",
    "- Progressbar\n",
    "- Separator\n",
    "- Sizegrip\n",
    "- Treeview\n",
    "\n",
    "#### Formas de configurar um widget ttk\n",
    "\n",
    "1. Através do construtor:"
   ]
  },
  {
   "cell_type": "code",
   "execution_count": 29,
   "id": "178f72c1",
   "metadata": {},
   "outputs": [],
   "source": [
    "import tkinter as tk\n",
    "from tkinter import ttk\n",
    "\n",
    "root = tk.Tk()\n",
    "root.geometry('600x400+50+50')\n",
    "root.resizable(False, False)\n",
    "\n",
    "ttk.Label(root, text=\"Sistemas de Informação\").pack()\n",
    "\n",
    "root.mainloop()"
   ]
  },
  {
   "cell_type": "markdown",
   "id": "fbe0a0ff",
   "metadata": {},
   "source": [
    "2. Usando o índice de um `dicionário` depois da criação do widget:"
   ]
  },
  {
   "cell_type": "code",
   "execution_count": 23,
   "id": "091cc333",
   "metadata": {},
   "outputs": [],
   "source": [
    "import tkinter as tk\n",
    "from tkinter import ttk\n",
    "\n",
    "root = tk.Tk()\n",
    "root.geometry('600x400+50+50')\n",
    "root.resizable(False, False)\n",
    "\n",
    "label = ttk.Label(root)\n",
    "label['text'] = \"Sistemas de Informação\"\n",
    "label.pack()\n",
    "\n",
    "root.mainloop()"
   ]
  },
  {
   "cell_type": "markdown",
   "id": "a98f511f",
   "metadata": {},
   "source": [
    "3. Utilizando o método `config()` e seus parâmetros:"
   ]
  },
  {
   "cell_type": "code",
   "execution_count": 33,
   "id": "b7fda7f3",
   "metadata": {},
   "outputs": [],
   "source": [
    "import tkinter as tk\n",
    "from tkinter import ttk\n",
    "\n",
    "root = tk.Tk()\n",
    "root.geometry('600x400+50+50')\n",
    "root.resizable(False, False)\n",
    "\n",
    "label = ttk.Label(root)\n",
    "label.config(text=\"Sistemas de Informação\")\n",
    "label.pack()\n",
    "\n",
    "root.mainloop()"
   ]
  },
  {
   "cell_type": "markdown",
   "id": "25cd22e0",
   "metadata": {},
   "source": [
    "---"
   ]
  },
  {
   "cell_type": "markdown",
   "id": "d3ad8276",
   "metadata": {},
   "source": [
    "### Vincular a um comando\n",
    "\n",
    "**Objetivo**: aprender como capturar um comando e associá-lo a um evento.\n",
    "\n",
    "Os dois passos básicos para isso são:\n",
    "\n",
    "1. Definir uma função a ser chamada.\n",
    "2. Vincular o nome da função à opção `command` do widget."
   ]
  },
  {
   "cell_type": "code",
   "execution_count": 24,
   "id": "928254dc",
   "metadata": {},
   "outputs": [
    {
     "name": "stdout",
     "output_type": "stream",
     "text": [
      "Você clicou no botão!\n",
      "Você clicou no botão!\n",
      "Você clicou no botão!\n",
      "Você clicou no botão!\n"
     ]
    }
   ],
   "source": [
    "import tkinter as tk\n",
    "from tkinter import ttk\n",
    "\n",
    "def bota_clicado():\n",
    "    print(\"Você clicou no botão!\")\n",
    "    \n",
    "root = tk.Tk()\n",
    "root.geometry('300x200+100+100')\n",
    "\n",
    "botao = ttk.Button(root, text=\"Clique aqui\", command=bota_clicado)\n",
    "botao.pack()\n",
    "\n",
    "root.mainloop()"
   ]
  },
  {
   "cell_type": "markdown",
   "id": "680e1eb9",
   "metadata": {},
   "source": [
    "#### Associando `command` com `expressões lambda`"
   ]
  },
  {
   "cell_type": "code",
   "execution_count": 37,
   "id": "d4e2c915",
   "metadata": {},
   "outputs": [
    {
     "name": "stdout",
     "output_type": "stream",
     "text": [
      "Preda\n",
      "Preda\n",
      "Preda\n",
      "Papel\n",
      "Tizôra\n"
     ]
    }
   ],
   "source": [
    "import tkinter as tk\n",
    "from tkinter import ttk\n",
    "\n",
    "def escolha(args):\n",
    "    print(args)\n",
    "    \n",
    "root = tk.Tk()\n",
    "root.geometry('300x200+100+100')\n",
    "\n",
    "ttk.Button(root, text='Pedra', command=lambda: escolha('Preda')).pack()\n",
    "ttk.Button(root, text='Papel',command=lambda: escolha('Papel')).pack()\n",
    "ttk.Button(root, text='Tesoura', command=lambda: escolha('Tizôra')).pack()\n",
    "\n",
    "root.mainloop()"
   ]
  },
  {
   "cell_type": "markdown",
   "id": "965d4fdd",
   "metadata": {},
   "source": [
    "A opção `command` é limitada a alguns poucos widgets além do `Button`. Além disso somente o clique do botão esquerdo do mouse e o espaço são capturados, mas não o Enter.\n",
    "\n",
    "**Solução**: vinculação a evento.\n",
    "\n",
    "---"
   ]
  },
  {
   "cell_type": "markdown",
   "id": "759e2e00",
   "metadata": {},
   "source": [
    "### Vincular a um evento\n",
    "\n",
    "Neste caso, vincular a captura de um evento a uma respectiva resposta pode ser feito com o método `bind()`.\n",
    "\n",
    "Sintaxe:\n",
    "\n",
    "```python\n",
    "widget.bind(event, handler, add=None)\n",
    "```\n",
    "\n",
    "- `event`: o evento que foi capturado.\n",
    "- `handler`: função ou método a ser chamado quando ocorre um evento.\n",
    "- `add`: para incluir `handlers` adicionais, basta modificar seu valor para `'+'`."
   ]
  },
  {
   "cell_type": "code",
   "execution_count": 27,
   "id": "5a229bc2",
   "metadata": {},
   "outputs": [
    {
     "name": "stdout",
     "output_type": "stream",
     "text": [
      "O Enter foi pressionado\n",
      "O Enter foi pressionado\n",
      "O Enter foi pressionado\n"
     ]
    }
   ],
   "source": [
    "import tkinter as tk\n",
    "from tkinter import ttk\n",
    "\n",
    "def enter(event):\n",
    "    print('O Enter foi pressionado')\n",
    "    \n",
    "root = tk.Tk()\n",
    "root.geometry('300x200+100+100')\n",
    "\n",
    "botao = ttk.Button(root, text=\"Salvar\")\n",
    "botao.bind('<Return>', enter)\n",
    "\n",
    "botao.focus()  # Já deixa o botão selecionado\n",
    "\n",
    "botao.pack(expand=True) # para receber \"espaço extra\" do container\n",
    "#botao.pack()\n",
    "\n",
    "root.mainloop()"
   ]
  },
  {
   "cell_type": "markdown",
   "id": "64c1a7d0",
   "metadata": {},
   "source": [
    "Agora com mais de 1 `handler`"
   ]
  },
  {
   "cell_type": "code",
   "execution_count": 30,
   "id": "e95e265c",
   "metadata": {},
   "outputs": [
    {
     "name": "stdout",
     "output_type": "stream",
     "text": [
      "O Enter foi pressionado\n",
      "<KeyPress event state=Mod2 keysym=Return keycode=36 char='\\r' x=131 y=478>\n",
      "Backspace pressionado\n",
      "Backspace pressionado\n",
      "O Enter foi pressionado\n",
      "<KeyPress event state=Mod2 keysym=Return keycode=36 char='\\r' x=131 y=478>\n",
      "Backspace pressionado\n",
      "O Enter foi pressionado\n",
      "<KeyPress event state=Mod2 keysym=Return keycode=36 char='\\r' x=131 y=478>\n"
     ]
    }
   ],
   "source": [
    "import tkinter as tk\n",
    "from tkinter import ttk\n",
    "\n",
    "def enter(event):\n",
    "    print('O Enter foi pressionado')\n",
    "    \n",
    "def log(event):\n",
    "    print(event)\n",
    "\n",
    "def backspace(event):\n",
    "    print(\"Backspace pressionado\")\n",
    "    \n",
    "root = tk.Tk()\n",
    "root.geometry('300x200+100+100')\n",
    "\n",
    "botao = ttk.Button(root, text=\"Salvar\")\n",
    "botao.bind('<Return>', enter)\n",
    "\n",
    "# Além de permitir mais de um handler, esse parâmetro serve para \n",
    "#   não sobrescrever o handler anterior.\n",
    "botao.bind('<Return>', log, add='+')\n",
    "\n",
    "botao.bind('<BackSpace>', backspace) \n",
    "\n",
    "botao.focus()  # Já deixa o botão selecionado\n",
    "\n",
    "botao.pack(expand=True) # para receber \"espaço extra\" do container\n",
    "\n",
    "root.mainloop()"
   ]
  },
  {
   "cell_type": "markdown",
   "id": "93937d22",
   "metadata": {},
   "source": [
    "É possível vincular a janela principal também:"
   ]
  },
  {
   "cell_type": "code",
   "execution_count": null,
   "id": "40082a13",
   "metadata": {},
   "outputs": [
    {
     "name": "stdout",
     "output_type": "stream",
     "text": [
      "Para de apertar Enter!\n",
      "Para de apertar Enter!\n",
      "Para de apertar Enter!\n",
      "Para de apertar Enter!\n",
      "Para de apertar Enter!\n",
      "Para de apertar Enter!\n",
      "Para de apertar Enter!\n",
      "Para de apertar Enter!\n",
      "Para de apertar Enter!\n"
     ]
    }
   ],
   "source": [
    "import tkinter as tk\n",
    "from tkinter import ttk\n",
    "\n",
    "def enter(event):\n",
    "    print('Para de apertar Enter!')\n",
    "    \n",
    "root = tk.Tk()\n",
    "root.geometry('300x200+100+100')\n",
    "root.bind('<Return>', enter)\n",
    "\n",
    "# Mesmo com botão sem bind, ele também captura o Enter para o root\n",
    "ttk.Button(root, text=\"Aperte aqui!\").pack(expand=True)\n",
    "\n",
    "root.mainloop()"
   ]
  },
  {
   "cell_type": "markdown",
   "id": "a44d0d00",
   "metadata": {},
   "source": [
    "---"
   ]
  },
  {
   "cell_type": "markdown",
   "id": "e57b6333",
   "metadata": {},
   "source": [
    "### Pack\n",
    "\n",
    "É um dos 3 gerenciadores de geometria (`grid` e `place` são os outros 2).\n",
    "\n",
    "No `pack` os widgets são ajustados em **uma direção**, vertical ou horizontal.\n",
    "\n",
    "A seguir uma lista de parâmetros:\n",
    "\n",
    "- `side`\n",
    "- `expand`\n",
    "- `fill`\n",
    "- `ipadx`, `ipady`\n",
    "- `padx`, `pady`\n",
    "- `anchor`\n",
    "\n",
    "Vamos brincar com eles:"
   ]
  },
  {
   "cell_type": "code",
   "execution_count": 33,
   "id": "6bae6304",
   "metadata": {},
   "outputs": [],
   "source": [
    "import tkinter as tk\n",
    "\n",
    "root = tk.Tk()\n",
    "root.title(\"Pack Layout\")\n",
    "root.geometry('600x400+700+400')\n",
    "\n",
    "fonte = ('latin modern sans', 16)\n",
    "\n",
    "label1 = tk.Label(root, \n",
    "                  text='Dizido um', \n",
    "                  bg='red', fg='white',\n",
    "                  font=fonte)\n",
    "label2 = tk.Label(root, \n",
    "                  text='Dizido dois', \n",
    "                  bg='green', fg='white',\n",
    "                  font=fonte)\n",
    "label3 = tk.Label(root, \n",
    "                  text='Dizido três', \n",
    "                  bg='blue', fg='white',\n",
    "                  font=fonte)\n",
    "\n",
    "label1.pack()\n",
    "label2.pack()\n",
    "label3.pack()\n",
    "\n",
    "root.mainloop()"
   ]
  },
  {
   "cell_type": "markdown",
   "id": "3d7e8c56",
   "metadata": {},
   "source": [
    "#### Side\n",
    "\n",
    "Opções:\n",
    "\n",
    "- 'top'\n",
    "- 'bottom'\n",
    "- 'left'\n",
    "- 'right'\n",
    "\n",
    "Ou através das constantes:\n",
    "\n",
    "- `tk.TOP`\n",
    "- `tk.BOTTOM`\n",
    "- `tk.LEFT`\n",
    "- `tk.RIGHT`"
   ]
  },
  {
   "cell_type": "code",
   "execution_count": 37,
   "id": "7fe81039",
   "metadata": {},
   "outputs": [],
   "source": [
    "import tkinter as tk\n",
    "\n",
    "root = tk.Tk()\n",
    "root.title(\"Pack Layout\")\n",
    "root.geometry('600x400+700+400')\n",
    "\n",
    "fonte = ('latin modern sans', 16)\n",
    "\n",
    "label1 = tk.Label(root, \n",
    "                  text='Dizido um', \n",
    "                  bg='red', fg='white',\n",
    "                  font=fonte)\n",
    "label2 = tk.Label(root, \n",
    "                  text='Dizido dois', \n",
    "                  bg='green', fg='white',\n",
    "                  font=fonte)\n",
    "label3 = tk.Label(root, \n",
    "                  text='Dizido três', \n",
    "                  bg='blue', fg='white',\n",
    "                  font=fonte)\n",
    "\n",
    "# Vamos testar o side: TOP, BOTTOM, LEFT, RIGHT\n",
    "label1.pack(side=tk.TOP)\n",
    "label2.pack(side=tk.LEFT)\n",
    "label3.pack(side=tk.RIGHT)\n",
    "\n",
    "root.mainloop()"
   ]
  },
  {
   "cell_type": "markdown",
   "id": "eda092de",
   "metadata": {},
   "source": [
    "Um formulário simples:"
   ]
  },
  {
   "cell_type": "code",
   "execution_count": 36,
   "id": "c3be904b",
   "metadata": {},
   "outputs": [],
   "source": [
    "import tkinter as tk\n",
    "\n",
    "root = tk.Tk()\n",
    "root.title(\"Pack Layout - Formulário Simples\")\n",
    "root.geometry('300x200+700+400')\n",
    "\n",
    "label_nome = ttk.Label(root, text='Nome:')\n",
    "label_nome.pack(side=tk.LEFT)\n",
    "\n",
    "entry_nome = ttk.Entry(root)\n",
    "entry_nome.pack(side=tk.LEFT)\n",
    "\n",
    "botao = ttk.Button(root, text='Enviar')\n",
    "botao.pack(side=tk.RIGHT)\n",
    "\n",
    "root.mainloop()"
   ]
  },
  {
   "cell_type": "markdown",
   "id": "62938cf2",
   "metadata": {},
   "source": [
    "#### Expand\n",
    "\n",
    "Determina se um widget **PODE** ocupar um espaço extra. Este parâmetro é dependente do parâmetro `side`."
   ]
  },
  {
   "cell_type": "code",
   "execution_count": 38,
   "id": "7d0b4f9d",
   "metadata": {},
   "outputs": [],
   "source": [
    "import tkinter as tk\n",
    "\n",
    "root = tk.Tk()\n",
    "root.title(\"Pack Layout\")\n",
    "root.geometry('600x400+700+400')\n",
    "\n",
    "fonte = ('latin modern sans', 16)\n",
    "\n",
    "label1 = tk.Label(root, \n",
    "                  text='Dizido um', \n",
    "                  bg='red', fg='white',\n",
    "                  font=fonte)\n",
    "label2 = tk.Label(root, \n",
    "                  text='Dizido dois', \n",
    "                  bg='green', fg='white',\n",
    "                  font=fonte)\n",
    "label3 = tk.Label(root, \n",
    "                  text='Dizido três', \n",
    "                  bg='blue', fg='white',\n",
    "                  font=fonte)\n",
    "\n",
    "# Vamos testar as combinações de side e expand\n",
    "# side: TOP, BOTTOM, LEFT, RIGHT\n",
    "# expand: True, False\n",
    "label1.pack(side=tk.LEFT, expand=True)\n",
    "label2.pack(side=tk.LEFT, expand=True)\n",
    "label3.pack(side=tk.LEFT, expand=True)\n",
    "\n",
    "root.mainloop()"
   ]
  },
  {
   "cell_type": "markdown",
   "id": "e3f07422",
   "metadata": {},
   "source": [
    "Voltando ao formulário"
   ]
  },
  {
   "cell_type": "code",
   "execution_count": 39,
   "id": "1bb5ade2",
   "metadata": {},
   "outputs": [],
   "source": [
    "import tkinter as tk\n",
    "\n",
    "root = tk.Tk()\n",
    "root.title(\"Pack Layout - Formulário Simples\")\n",
    "root.geometry('300x200+700+400')\n",
    "\n",
    "label_nome = ttk.Label(root, text='Nome:')\n",
    "label_nome.pack(side=tk.LEFT)\n",
    "\n",
    "entry_nome = ttk.Entry(root)\n",
    "entry_nome.pack(side=tk.LEFT, expand=True)\n",
    "\n",
    "botao = ttk.Button(root, text='Enviar')\n",
    "botao.pack(side=tk.LEFT)\n",
    "\n",
    "root.mainloop()"
   ]
  },
  {
   "cell_type": "markdown",
   "id": "b6acd57d",
   "metadata": {},
   "source": [
    "#### Fill\n",
    "\n",
    "Determina se um widget **VAI** ocupar um espaço disponível.\n",
    "\n",
    "Valores:\n",
    "\n",
    "- `'none'`: não vai ocupar.\n",
    "- `'x'`: vai expandir horizontalmente.\n",
    "- `'y'`: vai expandir verticalmente.\n",
    "- `'both'`: vai expandir nas duas direções."
   ]
  },
  {
   "cell_type": "code",
   "execution_count": 40,
   "id": "d19d186a",
   "metadata": {},
   "outputs": [],
   "source": [
    "import tkinter as tk\n",
    "\n",
    "root = tk.Tk()\n",
    "root.title(\"Pack Layout\")\n",
    "root.geometry('600x400+700+400')\n",
    "\n",
    "fonte = ('latin modern sans', 16)\n",
    "\n",
    "label1 = tk.Label(root, \n",
    "                  text='Dizido um', \n",
    "                  bg='red', fg='white',\n",
    "                  font=fonte)\n",
    "label2 = tk.Label(root, \n",
    "                  text='Dizido dois', \n",
    "                  bg='green', fg='black',\n",
    "                  font=fonte)\n",
    "label3 = tk.Label(root, \n",
    "                  text='Dizido três', \n",
    "                  bg='blue', fg='white',\n",
    "                  font=fonte)\n",
    "\n",
    "label4 = tk.Label(root,\n",
    "                  text='Dizido quatro',\n",
    "                  bg='purple', fg='white',\n",
    "                  font=fonte)\n",
    "\n",
    "# Vamos testar as combinações de side, expand e fill\n",
    "# side: TOP, BOTTOM, LEFT, RIGHT\n",
    "# expand: True, False\n",
    "# fill: NONE, X, Y, BOTH\n",
    "label1.pack(side=tk.LEFT, expand=True, fill=tk.X)\n",
    "label2.pack(side=tk.LEFT, expand=True, fill=tk.Y)\n",
    "label3.pack(side=tk.LEFT, expand=True, fill=tk.NONE)\n",
    "label4.pack(side=tk.LEFT, expand=True, fill=tk.BOTH)\n",
    "\n",
    "root.mainloop()"
   ]
  },
  {
   "cell_type": "markdown",
   "id": "c02371fa",
   "metadata": {},
   "source": [
    "O formulário:"
   ]
  },
  {
   "cell_type": "code",
   "execution_count": 41,
   "id": "a168cdbb",
   "metadata": {},
   "outputs": [],
   "source": [
    "import tkinter as tk\n",
    "\n",
    "root = tk.Tk()\n",
    "root.title(\"Pack Layout - Formulário Simples\")\n",
    "root.geometry('300x200+700+400')\n",
    "\n",
    "label_nome = ttk.Label(root, text='Nome:')\n",
    "label_nome.pack(side=tk.LEFT)\n",
    "\n",
    "entry_nome = ttk.Entry(root)\n",
    "entry_nome.pack(side=tk.LEFT, expand=True, fill=tk.X)\n",
    "\n",
    "botao = ttk.Button(root, text='Enviar')\n",
    "botao.pack(side=tk.LEFT)\n",
    "\n",
    "root.mainloop()"
   ]
  },
  {
   "cell_type": "markdown",
   "id": "37269a88",
   "metadata": {},
   "source": [
    "#### Preenchimendo (padding) interno\n",
    "\n",
    "- `ipadx`: cria preenchimento horizontal.\n",
    "- `ipady`: cria preenchimento vertical."
   ]
  },
  {
   "cell_type": "code",
   "execution_count": 42,
   "id": "a903a98d",
   "metadata": {},
   "outputs": [],
   "source": [
    "import tkinter as tk\n",
    "\n",
    "root = tk.Tk()\n",
    "root.title(\"Pack Layout\")\n",
    "root.geometry('800x600+700+400')\n",
    "\n",
    "fonte = ('latin modern sans', 16)\n",
    "\n",
    "label1 = tk.Label(root, \n",
    "                  text='Dizido um', \n",
    "                  bg='red', fg='white',\n",
    "                  font=fonte)\n",
    "label2 = tk.Label(root, \n",
    "                  text='Dizido dois', \n",
    "                  bg='green', fg='white',\n",
    "                  font=fonte)\n",
    "label3 = tk.Label(root, \n",
    "                  text='Dizido três', \n",
    "                  bg='blue', fg='white',\n",
    "                  font=fonte)\n",
    "\n",
    "label4 = tk.Label(root,\n",
    "                  text='Dizido quatro',\n",
    "                  bg='purple', fg='white',\n",
    "                  font=fonte)\n",
    "\n",
    "label1.pack(side=tk.LEFT)\n",
    "label2.pack(side=tk.LEFT, ipadx=40)\n",
    "label3.pack(side=tk.LEFT, ipady=40)\n",
    "label4.pack(side=tk.LEFT, ipadx=80, ipady=80)\n",
    "\n",
    "root.mainloop()"
   ]
  },
  {
   "cell_type": "markdown",
   "id": "7b7c5b95",
   "metadata": {},
   "source": [
    "#### Preenchimento (padding) externo\n",
    "\n",
    "- `padx`: cria espaço à direita e esquerda.\n",
    "- `pady`: cria espaço acime ou abaixo."
   ]
  },
  {
   "cell_type": "code",
   "execution_count": 93,
   "id": "edcaf38f",
   "metadata": {},
   "outputs": [],
   "source": [
    "import tkinter as tk\n",
    "\n",
    "root = tk.Tk()\n",
    "root.title(\"Pack Layout\")\n",
    "root.geometry('600x400+700+400')\n",
    "\n",
    "fonte = ('latin modern sans', 16)\n",
    "\n",
    "label1 = tk.Label(root, \n",
    "                  text='Dizido um', \n",
    "                  bg='red', fg='white',\n",
    "                  font=fonte)\n",
    "label2 = tk.Label(root, \n",
    "                  text='Dizido dois', \n",
    "                  bg='green', fg='white',\n",
    "                  font=fonte)\n",
    "label3 = tk.Label(root, \n",
    "                  text='Dizido três', \n",
    "                  bg='blue', fg='white',\n",
    "                  font=fonte)\n",
    "\n",
    "label4 = tk.Label(root,\n",
    "                  text='Dizido quatro',\n",
    "                  bg='purple', fg='white',\n",
    "                  font=fonte)\n",
    "\n",
    "label1.pack(side=tk.TOP, fill=tk.X, pady=10)\n",
    "label2.pack(side=tk.TOP, fill=tk.X, pady=20)\n",
    "label3.pack(side=tk.TOP, fill=tk.X, pady=40)\n",
    "label4.pack(side=tk.TOP, fill=tk.X, pady=60)\n",
    "\n",
    "root.mainloop()"
   ]
  },
  {
   "cell_type": "code",
   "execution_count": 43,
   "id": "2088ffeb",
   "metadata": {},
   "outputs": [],
   "source": [
    "import tkinter as tk\n",
    "\n",
    "root = tk.Tk()\n",
    "root.title(\"Pack Layout\")\n",
    "root.geometry('800x400+700+400')\n",
    "\n",
    "fonte = ('latin modern sans', 16)\n",
    "\n",
    "label1 = tk.Label(root, \n",
    "                  text='Dizido um', \n",
    "                  bg='red', fg='white',\n",
    "                  font=fonte)\n",
    "label2 = tk.Label(root, \n",
    "                  text='Dizido dois', \n",
    "                  bg='green', fg='white',\n",
    "                  font=fonte)\n",
    "label3 = tk.Label(root, \n",
    "                  text='Dizido três', \n",
    "                  bg='blue', fg='white',\n",
    "                  font=fonte)\n",
    "\n",
    "label4 = tk.Label(root,\n",
    "                  text='Dizido quatro',\n",
    "                  bg='purple', fg='white',\n",
    "                  font=fonte)\n",
    "\n",
    "label1.pack(side=tk.LEFT, fill=tk.X, padx=10)\n",
    "label2.pack(side=tk.LEFT, fill=tk.X, padx=20)\n",
    "label3.pack(side=tk.LEFT, fill=tk.X, padx=40)\n",
    "label4.pack(side=tk.LEFT, fill=tk.X, padx=60)\n",
    "\n",
    "root.mainloop()"
   ]
  },
  {
   "cell_type": "markdown",
   "id": "46ad2806",
   "metadata": {},
   "source": [
    "Atualizando o formulário:"
   ]
  },
  {
   "cell_type": "code",
   "execution_count": 44,
   "id": "c1568249",
   "metadata": {},
   "outputs": [],
   "source": [
    "import tkinter as tk\n",
    "\n",
    "root = tk.Tk()\n",
    "root.title(\"Pack Layout - Formulário Simples\")\n",
    "root.geometry('300x200+700+400')\n",
    "\n",
    "label_nome = ttk.Label(root, text='Nome:')\n",
    "label_nome.pack(side=tk.LEFT, padx=10)\n",
    "\n",
    "entry_nome = ttk.Entry(root)\n",
    "entry_nome.pack(side=tk.LEFT, expand=True, fill=tk.X, padx=10)\n",
    "\n",
    "botao = ttk.Button(root, text='Enviar')\n",
    "botao.pack(side=tk.LEFT, padx=10)\n",
    "\n",
    "root.mainloop()"
   ]
  },
  {
   "cell_type": "markdown",
   "id": "2dba7d47",
   "metadata": {},
   "source": [
    "#### Âncora (anchor)\n",
    "\n",
    "Serve para \"ancorar\" o widget na beira do espaço alocado. Valores possíveis:\n",
    "\n",
    "![](tkinter-pack-anchor-illustration.png)"
   ]
  },
  {
   "cell_type": "code",
   "execution_count": 45,
   "id": "5225f1ff",
   "metadata": {},
   "outputs": [],
   "source": [
    "import tkinter as tk\n",
    "\n",
    "root = tk.Tk()\n",
    "root.title('Pack Demo')\n",
    "root.geometry(\"350x200\")\n",
    "\n",
    "# box 1\n",
    "box1 = tk.Label(root, text=\"Caixa 1\", bg=\"green\", fg=\"white\")\n",
    "box1.pack(ipadx=20, ipady=20, anchor=tk.E,  expand=True)\n",
    "\n",
    "# box 2\n",
    "box2 = tk.Label(root, text=\"Caixa 2\", bg=\"red\", fg=\"white\")\n",
    "box2.pack(ipadx=20, ipady=20, anchor=tk.W, expand=True)\n",
    "\n",
    "\n",
    "root.mainloop()"
   ]
  },
  {
   "cell_type": "markdown",
   "id": "fea5005d",
   "metadata": {},
   "source": [
    "#### Login simples"
   ]
  },
  {
   "cell_type": "code",
   "execution_count": 46,
   "id": "12926cd1",
   "metadata": {},
   "outputs": [],
   "source": [
    "import tkinter as tk\n",
    "from tkinter import ttk\n",
    "\n",
    "root = tk.Tk()\n",
    "root.title('Login')\n",
    "root.geometry(\"320x200\")\n",
    "\n",
    "\n",
    "fields = {}\n",
    "\n",
    "fields['username_label'] = ttk.Label(root, text='Usuário:')\n",
    "fields['username'] = ttk.Entry(root)\n",
    "\n",
    "fields['password_label'] = ttk.Label(root, text='Senha:')\n",
    "fields['password'] = ttk.Entry(root, show=\"*\")\n",
    "\n",
    "\n",
    "for field in fields.values():\n",
    "    field.pack(anchor=tk.W, padx=10, pady=5, fill=tk.X)\n",
    "\n",
    "ttk.Button(text='Login').pack(anchor=tk.W, padx=10, pady=10)\n",
    "\n",
    "root.mainloop()"
   ]
  },
  {
   "cell_type": "markdown",
   "id": "82ffd169",
   "metadata": {},
   "source": [
    "### Grid\n",
    "\n",
    "[Tutorial](https://www.pythontutorial.net/tkinter/tkinter-grid/)\n",
    "\n",
    "---"
   ]
  },
  {
   "cell_type": "markdown",
   "id": "b477493a",
   "metadata": {},
   "source": [
    "### Place\n",
    "\n",
    "[Tutorial](https://www.pythontutorial.net/tkinter/tkinter-place/)\n",
    "\n",
    "---"
   ]
  },
  {
   "cell_type": "markdown",
   "id": "0d3dfd5f",
   "metadata": {},
   "source": [
    "### Label\n",
    "\n",
    "[Tutorial](https://www.pythontutorial.net/tkinter/tkinter-label/)\n",
    "\n",
    "---"
   ]
  },
  {
   "cell_type": "markdown",
   "id": "08e37e61",
   "metadata": {},
   "source": [
    "### Button\n",
    "\n",
    "[Tutorial](https://www.pythontutorial.net/tkinter/tkinter-button/)\n",
    "\n",
    "---"
   ]
  },
  {
   "cell_type": "markdown",
   "id": "bd8e3e60",
   "metadata": {},
   "source": [
    "### Entry\n",
    "\n",
    "[Tutorial](https://www.pythontutorial.net/tkinter/tkinter-entry/)\n",
    "\n",
    "---"
   ]
  },
  {
   "cell_type": "markdown",
   "id": "99ee55b8",
   "metadata": {},
   "source": [
    "## Exercícios\n",
    "\n",
    "1. Crie uma janela que contenha:\n",
    "   - Um `Label` com texto customizado (\"Bem-vindo!\").\n",
    "   - Um `Entry` para o usuário digitar seu nome.\n",
    "   - Um `Button` que, quando clicado, lê o nome do `Entry` e exibe uma saudação em um Label (exemplo: \"Olá, [nome]!\").\n",
    "2. Crie uma janela com 2 ``Button`:\n",
    "   - Se o primeiro for pressionado, o título da janela será alterado para algum título qualquer, que você tenha definido.\n",
    "   - O segundo fecha a janela (`rood.destroy()`).\n",
    "3. Utilizando `grid()`, crie uma calculadora. Por enquanto, somente com o posicionamento dos widgets.\n",
    "4. Agora tente implementar a lógica da calculadora, recebendo valores e mostrando resultados."
   ]
  }
 ],
 "metadata": {
  "kernelspec": {
   "display_name": "POO II",
   "language": "python",
   "name": "python3"
  },
  "language_info": {
   "codemirror_mode": {
    "name": "ipython",
    "version": 3
   },
   "file_extension": ".py",
   "mimetype": "text/x-python",
   "name": "python",
   "nbconvert_exporter": "python",
   "pygments_lexer": "ipython3",
   "version": "3.13.8"
  }
 },
 "nbformat": 4,
 "nbformat_minor": 5
}
