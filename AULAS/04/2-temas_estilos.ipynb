{
 "cells": [
  {
   "cell_type": "markdown",
   "id": "baface3f",
   "metadata": {},
   "source": [
    "# Aula 04\n",
    "\n",
    "## Temas e Estilos do Tkinter.\n",
    "\n",
    "Um `tema` é uma coleção de `estilos` (*styles*) para todos os `widgets` do `ttk`. É possível modificar a aparência de `widgets` ao modificar os `estilos` nativos, ou criando novos `estilos`.\n",
    "\n",
    "A seguir vejamos todos os temas disponíveis (cada S.O. terá sua própria lista):"
   ]
  },
  {
   "cell_type": "code",
   "execution_count": null,
   "id": "79ae6101",
   "metadata": {},
   "outputs": [],
   "source": [
    "import tkinter as tk\n",
    "from tkinter import ttk\n",
    "\n",
    "estilo = ttk.Style()\n",
    "estilo.theme_names()"
   ]
  },
  {
   "cell_type": "markdown",
   "id": "35fc7fe9",
   "metadata": {},
   "source": [
    "Mostrando e selecionando todos os temas nativos:"
   ]
  },
  {
   "cell_type": "code",
   "execution_count": null,
   "id": "c140cc2c",
   "metadata": {},
   "outputs": [],
   "source": [
    "import tkinter as tk\n",
    "from tkinter import ttk\n",
    "\n",
    "\n",
    "class App(tk.Tk):\n",
    "    def __init__(self):\n",
    "        super().__init__()\n",
    "\n",
    "        # root window\n",
    "        self.title('Temas')\n",
    "        self.geometry('400x300')\n",
    "        self.style = ttk.Style(self)\n",
    "\n",
    "        # label\n",
    "        label = ttk.Label(self, text='Nome:')\n",
    "        label.grid(column=0, row=0, padx=10, pady=10,  sticky='w')\n",
    "        # entry\n",
    "        textbox = ttk.Entry(self)\n",
    "        textbox.grid(column=1, row=0, padx=10, pady=10,  sticky='w')\n",
    "        # button\n",
    "        btn = ttk.Button(self, text='Mostrar')\n",
    "        btn.grid(column=2, row=0, padx=10, pady=10,  sticky='w')\n",
    "\n",
    "        # radio button\n",
    "        self.selected_theme = tk.StringVar()\n",
    "        theme_frame = ttk.LabelFrame(self, text='Temas')\n",
    "        theme_frame.grid(padx=10, pady=10, ipadx=20, ipady=20, sticky='w')\n",
    "\n",
    "        for theme_name in self.style.theme_names():\n",
    "            rb = ttk.Radiobutton(\n",
    "                theme_frame,\n",
    "                text=theme_name,\n",
    "                value=theme_name,\n",
    "                variable=self.selected_theme,\n",
    "                command=self.change_theme)\n",
    "            rb.pack(expand=True, fill='both')\n",
    "\n",
    "    def change_theme(self):\n",
    "        self.style.theme_use(self.selected_theme.get())\n",
    "\n",
    "\n",
    "if __name__ == \"__main__\":\n",
    "    app = App()\n",
    "    app.mainloop()"
   ]
  },
  {
   "cell_type": "markdown",
   "id": "f46bc4ce",
   "metadata": {},
   "source": [
    "### Estilos\n",
    "\n",
    "Normalmente o nome do `estilo` de um `widget ttk` começa com a letra `T` seguida do nome do `widget`. Por exemplo, `TLabel` e `TButton`. As exceções são: `Progressbar` , `Scale`, `Scrollbar`, and `Treeview`.\n",
    "\n",
    "Cada `estilo` tem um conjunto de opções que definem a aparência de seu `widget`. Para modificar a aparência de um `estilo` usa-se o método `configure()` da classe `Style`:"
   ]
  },
  {
   "cell_type": "code",
   "execution_count": null,
   "id": "de5ce39e",
   "metadata": {},
   "outputs": [],
   "source": [
    "style = ttk.Style(root)\n",
    "style.configure(style_name, **options)"
   ]
  },
  {
   "cell_type": "markdown",
   "id": "60bf850a",
   "metadata": {},
   "source": [
    "Modificando a fonte de todos os `widgets` `Label` e `Button`:"
   ]
  },
  {
   "cell_type": "code",
   "execution_count": null,
   "id": "1e185591",
   "metadata": {},
   "outputs": [],
   "source": [
    "import tkinter as tk\n",
    "from tkinter import ttk\n",
    "\n",
    "\n",
    "class App(tk.Tk):\n",
    "    def __init__(self):\n",
    "        super().__init__()\n",
    "\n",
    "        self.geometry('300x110')\n",
    "        self.resizable(0, 0)\n",
    "        self.title('Login')\n",
    "\n",
    "        # UI options\n",
    "        paddings = {'padx': 5, 'pady': 5}\n",
    "        entry_font = {'font': ('Helvetica', 12)}\n",
    "\n",
    "        # configure the grid\n",
    "        self.columnconfigure(0, weight=1)\n",
    "        self.columnconfigure(1, weight=3)\n",
    "\n",
    "        username = tk.StringVar()\n",
    "        password = tk.StringVar()\n",
    "\n",
    "        # username\n",
    "        username_label = ttk.Label(self, text=\"Usuário:\")\n",
    "        username_label.grid(column=0, row=0, sticky=tk.W, **paddings)\n",
    "\n",
    "        username_entry = ttk.Entry(self, textvariable=username, **entry_font)\n",
    "        username_entry.grid(column=1, row=0, sticky=tk.E, **paddings)\n",
    "\n",
    "        # password\n",
    "        password_label = ttk.Label(self, text=\"Senha:\")\n",
    "        password_label.grid(column=0, row=1, sticky=tk.W, **paddings)\n",
    "\n",
    "        password_entry = ttk.Entry(\n",
    "            self, textvariable=password, show=\"*\", **entry_font)\n",
    "        password_entry.grid(column=1, row=1, sticky=tk.E, **paddings)\n",
    "\n",
    "        # login button\n",
    "        login_button = ttk.Button(self, text=\"Login\")\n",
    "        login_button.grid(column=1, row=3, sticky=tk.E, **paddings)\n",
    "\n",
    "        # configure style\n",
    "        self.style = ttk.Style(self)\n",
    "        self.style.configure('TLabel', font=('Helvetica', 12))\n",
    "        self.style.configure('TButton', font=('Helvetica', 12))\n",
    "\n",
    "\n",
    "if __name__ == \"__main__\":\n",
    "    app = App()\n",
    "    app.mainloop()"
   ]
  },
  {
   "cell_type": "markdown",
   "id": "3adcc65c",
   "metadata": {},
   "source": [
    "Para criar um novo `estilo` a partir um `estilo nativo` usa-se o nome do `estilo` da seguinte forma:\n",
    "\n",
    "```python\n",
    "novo_estilo.estilo_nativo\n",
    "```\n",
    "\n",
    "Por exemplo, para criar um novo `estilo` do `widget` `Label` usado para exibir um cabeçalho, ou título (*heading*), é possível nomear da seguinte forma:\n",
    "\n",
    "```python\n",
    "Heading.TLabel\n",
    "```\n",
    "\n",
    "O `estilo` `Heading.TLabel` herda todas as opções do `estilo nativo` `TLabel`. Para sobrescrever alguma opção é possível usar o método `configure()` da classe `Style`:\n",
    "\n",
    "```python\n",
    "estilo = ttk.Style(self)\n",
    "estilo.configure(estilo_personalizado, **options)\n",
    "```\n",
    "\n",
    "A seguir, um exemplo de adição de cabeçalho à janela de login, onde o cabeçalho foi derivado do `estilo` `TLabel`:"
   ]
  },
  {
   "cell_type": "code",
   "execution_count": null,
   "id": "5ab16a1f",
   "metadata": {},
   "outputs": [],
   "source": [
    "import tkinter as tk\n",
    "from tkinter import ttk\n",
    "\n",
    "\n",
    "class App(tk.Tk):\n",
    "    def __init__(self):\n",
    "        super().__init__()\n",
    "\n",
    "        self.geometry('300x150')\n",
    "        self.resizable(0, 0)\n",
    "        self.title('Login')\n",
    "\n",
    "        # UI options\n",
    "        paddings = {'padx': 5, 'pady': 5}\n",
    "        entry_font = {'font': ('Helvetica', 12)}\n",
    "\n",
    "        # configure the grid\n",
    "        self.columnconfigure(0, weight=1)\n",
    "        self.columnconfigure(1, weight=3)\n",
    "\n",
    "        username = tk.StringVar()\n",
    "        password = tk.StringVar()\n",
    "\n",
    "        # heading\n",
    "        heading = ttk.Label(self, text='Login de Membro', style='Heading.TLabel')\n",
    "        heading.grid(column=0, row=0, columnspan=2, pady=5, sticky=tk.N)\n",
    "\n",
    "        # username\n",
    "        username_label = ttk.Label(self, text=\"Usuário:\")\n",
    "        username_label.grid(column=0, row=1, sticky=tk.W, **paddings)\n",
    "\n",
    "        username_entry = ttk.Entry(self, textvariable=username, **entry_font)\n",
    "        username_entry.grid(column=1, row=1, sticky=tk.E, **paddings)\n",
    "\n",
    "        # password\n",
    "        password_label = ttk.Label(self, text=\"Senha:\")\n",
    "        password_label.grid(column=0, row=2, sticky=tk.W, **paddings)\n",
    "\n",
    "        password_entry = ttk.Entry(\n",
    "            self, textvariable=password, show=\"*\", **entry_font)\n",
    "        password_entry.grid(column=1, row=2, sticky=tk.E, **paddings)\n",
    "\n",
    "        # login button\n",
    "        login_button = ttk.Button(self, text=\"Login\")\n",
    "        login_button.grid(column=1, row=3, sticky=tk.E, **paddings)\n",
    "\n",
    "        # configure style\n",
    "        self.style = ttk.Style(self)\n",
    "        self.style.configure('TLabel', font=('Helvetica', 12))\n",
    "        self.style.configure('TButton', font=('Helvetica', 12))\n",
    "\n",
    "        # heading style\n",
    "        self.style.configure('Heading.TLabel', font=('Helvetica', 14))\n",
    "\n",
    "\n",
    "if __name__ == \"__main__\":\n",
    "    app = App()\n",
    "    app.mainloop()"
   ]
  },
  {
   "cell_type": "markdown",
   "id": "0fad0247",
   "metadata": {},
   "source": [
    "### Modificando a aparência de `widgets` dinamicamente com o método `map()`\n",
    "\n",
    "Basicamente um `widget ttk` permite a modificação de sua aparência baseado em um estado específico. A seguir, uma tabela que mostra uma lista de estados de `widget` e seus significados:\n",
    "\n",
    "| **Estado** | **Descrição** |\n",
    "|------------|---------------|\n",
    "| `active `  | O mouse está dentro da área do widget |\n",
    "| `alternate` | O Ttk reserve este estado para uso de aplicação |\n",
    "| `background` | O widget está em uma janela que não está em primeiro plano. Este estado só é relevante para Windows e macOS. |\n",
    "| `disabled ` | O widget não responderá a qualquer ação. |\n",
    "| `focus` | O widget está em \"foco\". |\n",
    "| `invalid ` | O valor atual do widget é inválido. |\n",
    "| `pressed` | O widget está sendo clicado. |\n",
    "| `readonly` | Impede que o usuário altere o estado. |\n",
    "| `selected` | O widget está selecionado. |\n",
    "\n",
    "Para modificar a aparência de um `widget` dinamicamente, o usuário pode usar o método `map()`:\n",
    "\n",
    "```python\n",
    "style.map(style_name, query)\n",
    "```\n",
    "\n",
    "Este método aceita como primeiro parâmetro o nome do `estilo`, por exemplo, TButton. O parâmetro `query` é uma lista de palavras-chave onde cada chave é uma opção de estilo e os valores são uma lista de tuplas `(estado, valor)`.\n",
    "\n",
    "A seguir, exemplo da cor do texto de um botão (*foreground*) sendo alterado dinamicamente:"
   ]
  },
  {
   "cell_type": "code",
   "execution_count": null,
   "id": "a8966e6c",
   "metadata": {},
   "outputs": [],
   "source": [
    "import tkinter as tk\n",
    "from tkinter import ttk\n",
    "\n",
    "\n",
    "class App(tk.Tk):\n",
    "    def __init__(self):\n",
    "        super().__init__()\n",
    "\n",
    "        self.geometry('300x100')\n",
    "\n",
    "        button = ttk.Button(self, text='Salvar')\n",
    "        button.pack(expand=True)\n",
    "\n",
    "        style = ttk.Style(self)\n",
    "        style.configure('TButton', font=('Helvetica', 16))\n",
    "        style.map('TButton',\n",
    "                foreground=[('pressed', 'blue'),\n",
    "                            ('active', 'red')])\n",
    "\n",
    "        print(style.layout('TButton'))\n",
    "\n",
    "\n",
    "if __name__ == \"__main__\":\n",
    "    app = App()\n",
    "    app.mainloop()"
   ]
  },
  {
   "cell_type": "markdown",
   "id": "483fed7c",
   "metadata": {},
   "source": [
    "## Exercícios (considerando tudo o que já foi visto até então)\n",
    "\n",
    "Da [aula 01](../01/aula01.ipynb) até Temas e Estilos.\n",
    "\n",
    "1. **Botões alinhados horizontalmente**: Crie uma janela com três botões dispostos lado a lado (mesma linha, colunas diferentes) usando grid().\n",
    "2. **Botões alinhados verticalmente**: Crie três botões empilhados em uma única coluna (mesma coluna, linhas diferentes).\n",
    "3. **Tabela 2x2**: Crie uma janela com 4 botões dispostos em forma de tabela 2x2.\n",
    "4. **Alinhamento com sticky**: Coloque um botão em uma célula e use sticky para ele ocupar o canto sudeste (SE).\n",
    "5. **Espaçamento interno (padx/pady)**: Crie três botões em uma linha e adicione espaçamento horizontal e vertical entre eles."
   ]
  },
  {
   "cell_type": "code",
   "execution_count": null,
   "id": "e2e01429",
   "metadata": {},
   "outputs": [],
   "source": [
    "# 4\n",
    "import tkinter as tk\n",
    "from tkinter import ttk\n",
    "\n",
    "root = tk.Tk()\n",
    "root.title('Exercício - 4')\n",
    "root.geometry('300x100')\n",
    "\n",
    "root.grid_rowconfigure(0,weight=1)\n",
    "root.grid_columnconfigure(0, weight=1)\n",
    "\n",
    "estilo = ttk.Style()\n",
    "estilo.configure('TButton', font=('Helvetica', 16))\n",
    "\n",
    "ttk.Button(root, text='Lorem Ipsum').grid(row=0, column=0, sticky='se')\n",
    "\n",
    "root.mainloop()"
   ]
  },
  {
   "cell_type": "code",
   "execution_count": null,
   "id": "e26a08e2",
   "metadata": {},
   "outputs": [],
   "source": [
    "# 5\n",
    "import tkinter as tk\n",
    "from tkinter import ttk\n",
    "\n",
    "root = tk.Tk()\n",
    "root.title('Exercício - 5')\n",
    "root.geometry('600x300')\n",
    "\n",
    "root.grid_rowconfigure(0, weight=1)\n",
    "\n",
    "root.grid_columnconfigure(0, weight=1)\n",
    "root.grid_columnconfigure(1, weight=1)\n",
    "root.grid_columnconfigure(2, weight=1)\n",
    "\n",
    "estilo = ttk.Style()\n",
    "estilo.configure('TButton', font=('Helvetica', 16))\n",
    "\n",
    "ttk.Button(root, text='Lorem').grid(row=0, column=0, sticky='we', padx=10, pady=10)\n",
    "ttk.Button(root, text='Ipsum').grid(row=0, column=1, sticky='we', padx=10, pady=10)\n",
    "ttk.Button(root, text='Dolores').grid(row=0, column=2, sticky='we', padx=10, pady=10)\n",
    "\n",
    "root.mainloop()"
   ]
  },
  {
   "cell_type": "markdown",
   "id": "08a9e843",
   "metadata": {},
   "source": [
    "6. **Login simples com grid**: Crie dois Label (“Usuário”, “Senha”) e dois Entry, organizados em duas linhas, e um botão “Entrar” abaixo.\n",
    "7. 8. **Uso de columnspan**: Crie uma janela com dois Label em cima e um botão centralizado abaixo que ocupa duas colunas.\n",
    "8. **Uso de rowspan**: Coloque um Label em uma célula da primeira coluna e configure-o para ocupar duas linhas (rowspan=2), enquanto dois botões ficam nas colunas ao lado.\n",
    "9.  **Layout de calculadora (esqueleto)**: Crie os botões 0-9 em uma grade que imite uma calculadora (não precisa ter funcionalidade ainda).\n",
    "10. **Mixando alinhamentos**: Crie uma janela com 6 botões organizados em duas linhas e três colunas, onde cada botão deve ocupar um alinhamento diferente da célula (N, S, E, W, NE, SW)."
   ]
  },
  {
   "cell_type": "code",
   "execution_count": null,
   "id": "78711d54",
   "metadata": {},
   "outputs": [],
   "source": [
    "# ..."
   ]
  },
  {
   "cell_type": "markdown",
   "id": "1fd09034",
   "metadata": {},
   "source": [
    "11. **Estrutura básica de app OOP**: Escreva uma aplicação Tkinter orientada a objetos: uma classe App que herda de Tk, com método para construir interface. Dentro, um frame com uma label “Olá do app orientado a objetos”.\n",
    "12. **Menu simples “Arquivo → Sair”**: Dentro da aplicação OOP, adicione uma barra de menu com “Arquivo” → “Sair”. O item “Sair” deve fechar a janela.\n",
    "13. **Menu Ajuda que mostra caixa de mensagem**: Adicione menu “Ajuda” → “Sobre”, que ao ser clicado abre um diálogo (messagebox ou info) com alguma mensagem (“Este app foi criado por …”).\n",
    "14. **Confirmar saída**: Modifique o menu “Arquivo → Sair” para, antes de sair, mostrar um diálogo de confirmação (askyesno). Se o usuário confirmar, fecha; se não, permanece.\n",
    "15. **Open File Dialog**: No menu “Arquivo”, adicionar item “Abrir…”, que ao ser clicado abre diálogo de seleção de arquivo (open file). Mostrar o caminho do arquivo selecionado numa label da interface."
   ]
  },
  {
   "cell_type": "code",
   "execution_count": null,
   "id": "3821d30b",
   "metadata": {},
   "outputs": [],
   "source": [
    "# ..."
   ]
  },
  {
   "cell_type": "markdown",
   "id": "9ef5b362",
   "metadata": {},
   "source": [
    "16. **Aplicativo OOP com múltiplos frames/páginas**: Crie algo como “Home” e “Configuração” como dois frames separados. No menu “Navegar” permitir alternar entre esses frames (mostrar um ou outro). Use OOP para estruturar.\n",
    "17. **Dialogos de aviso e erro**: Adicione no menu “Arquivo” um item “Salvar”. Se não houver conteúdo para salvar, exibir uma messagebox de aviso (“Nada a salvar”), senão proceder (simulado) e exibir confirmação de sucesso.\n",
    "18. **Novo documento**: Menu “Arquivo” → “Novo” que limpa os campos ou estado atual do frame de trabalho (por exemplo, limpar uma Entry ou Text), pedindo confirmação se alterações não salvas (askyesno).\n",
    "19. **Menu dinamicamente habilitado/desabilitado**: Em app OOP, fazer com que alguns itens de menu fiquem desabilitados dependendo do estado (por exemplo, “Salvar” só ativo se houver algo para salvar; senão está desativado/inativo).\n",
    "20. **Dialogo de escolha de cor**: Adicionar menu “Tema” → “Cor de Fundo” que abre um diálogo colorchooser para o usuário escolher uma cor, e aplica essa cor de fundo em um frame ou toda janela."
   ]
  },
  {
   "cell_type": "code",
   "execution_count": null,
   "id": "e326b773",
   "metadata": {},
   "outputs": [],
   "source": [
    "# ..."
   ]
  },
  {
   "cell_type": "markdown",
   "id": "efdd88df",
   "metadata": {},
   "source": [
    "21. **Aplicativo de Boas-Vindas OOP**: App OOP: pede nome via Entry; botão enviar; label mostra “Bem-vindo, [nome]”; menu com “Ajuda → Sobre”.\n",
    "22. **Calculadora completa OOP com menu**: Botões numéricos, operações básicas, botão igual; menu com “Arquivo → Sair”, “Ajuda → Sobre”.\n",
    "23. **Editor simples de texto**: Área de texto multilinha (Text), menu com New, Open, Save; diálogos para abrir / salvar; confirmação ao fechar se não salvo.\n",
    "24. **To-do List com OOP + diálogos**: Inserir tarefa (Entry), adicionar à Listbox; remover selecionada; menu para limpar tudo; confirmação antes de limpar; barra de menu com Ajuda.\n",
    "25. **Conversor de temperatura com escolha unitária**: Entry para digitar temperatura, radiobutton para escolher se converte C → F ou F → C; menu para redefinir (limpar), sair; diálogo de erro se entrada inválida."
   ]
  },
  {
   "cell_type": "code",
   "execution_count": null,
   "id": "d75a40c6",
   "metadata": {},
   "outputs": [],
   "source": [
    "# ..."
   ]
  },
  {
   "cell_type": "markdown",
   "id": "10023084",
   "metadata": {},
   "source": [
    "26. **Aplicativo de cores combinadas**: Sliders ou Scales para R, G, B (0-255), mostrar cor resultante num canvas ou label de fundo; menu para escolher tema escuro/claro; diálogo para escolher cor personalizada.\n",
    "27. **Quiz interativo**: Pergunta (label), opções (radiobuttons), botão confirmar, mostrar resposta; menu para reiniciar quiz; diálogo “Você quer sair?” se clicar sair no menu.\n",
    "28. **Viewer de imagens simples**: Menu “Arquivo → Abrir” para escolher imagem; exibir imagem em canvas ou label; menu “Ajuda → Sobre”; opção para fechar aplicação.\n",
    "29. **Painel de controle simulado**:  Vários controles: Checkbuttons (liga/desliga), Scales (volume, brilho), Combobox para escolher perfil, Button aplicar; menu para resetar para padrões, sair; confirmação antes de sair.\n",
    "30. **Desenho interativo**: Canvas onde o usuário pode clicar para desenhar pontos ou círculos; menu para limpar canvas; diálogo para configurar raio de círculo; OOP para estruturar."
   ]
  },
  {
   "cell_type": "code",
   "execution_count": null,
   "id": "0eaee0ce",
   "metadata": {},
   "outputs": [],
   "source": [
    "# 27\n",
    "import tkinter as tk\n",
    "from tkinter import ttk\n",
    "from tkinter.messagebox import askyesno\n",
    "\n",
    "def verifica_resposta():\n",
    "    if opcao_marcada.get() == \"Pedro Álvares de Cabral\":\n",
    "        resposta.config(text=\"ACERTÔ MIZERÁVI\")\n",
    "    else:\n",
    "        resposta.config(text=\"ERROOOOOOOOOOOU! A resposta correta é Pedro Álvares Cabral.\")\n",
    "\n",
    "def reiniciar():\n",
    "    resposta.config(text='')\n",
    "    opcao_marcada.set('')\n",
    "    \n",
    "def sair():\n",
    "    if askyesno(title=\"Encerrando o programa\", message=\"Você deseja sair?\", icon='question'):\n",
    "        root.destroy()\n",
    "\n",
    "root = tk.Tk()\n",
    "root.title(\"Exercícios - 27\")\n",
    "root.geometry('800x400')\n",
    "\n",
    "menubar = tk.Menu(root)\n",
    "root.config(menu=menubar)\n",
    "\n",
    "menubar.add_command(label=\"Reiniciar\", command=reiniciar)\n",
    "menubar.add_command(label=\"Sair\", command=sair)\n",
    "\n",
    "opcao_marcada = tk.StringVar()\n",
    "\n",
    "pergunta = ttk.Label(root, text=\"Quem descobriu o Brasil?\")\n",
    "opcao1 = ttk.Radiobutton(root, text=\"Marechal Deodoro da Fonseca\", value=\"Marechal Deodoro da Fonseca\", variable=opcao_marcada)\n",
    "opcao2 = ttk.Radiobutton(root, text=\"Neymar Júnior\", value=\"Neymar Júnior\", variable=opcao_marcada)\n",
    "opcao3 = ttk.Radiobutton(root, text=\"Pedro Álvares de Cabral\", value=\"Pedro Álvares de Cabral\", variable=opcao_marcada)\n",
    "opcao4 = ttk.Radiobutton(root, text=\"Evonei Fernandes\", value=\"Evonei Fernandes\", variable=opcao_marcada)\n",
    "opcao5 = ttk.Radiobutton(root, text=\"Dom Pedro I\", value=\"Dom Pedro I\", variable=opcao_marcada)\n",
    "\n",
    "resposta = ttk.Label(root)\n",
    "\n",
    "confirmar = ttk.Button(root, text=\"Confirma?\", command=verifica_resposta)\n",
    "\n",
    "pergunta.grid(row=0, column=0, padx=10)\n",
    "opcao1.grid(row=0, column=1, padx=10, pady=10, sticky='w')\n",
    "opcao2.grid(row=1, column=1, padx=10, pady=10, sticky='w')\n",
    "opcao3.grid(row=2, column=1, padx=10, pady=10, sticky='w')\n",
    "opcao4.grid(row=3, column=1, padx=10, pady=10, sticky='w')\n",
    "opcao5.grid(row=4, column=1, padx=10, pady=10, sticky='w')\n",
    "confirmar.grid(row=5, column=1, padx=10, pady=10, sticky='w')\n",
    "resposta.grid(row=0, column=2, pady=10, sticky='ew')\n",
    "\n",
    "\n",
    "root.mainloop()"
   ]
  },
  {
   "cell_type": "markdown",
   "id": "98c15351",
   "metadata": {},
   "source": [
    "31. **Relógio digital com pause/resume**: Label que mostra hora atual; botões Pause/Resume; menu com Sair e Sobre; quando fechar, pedir confirmação.\n",
    "32. **Editor CSV simples**: Abrir arquivo CSV via diálogo, exibir dados numa Listbox ou numa grid simplificada (pode usar vários Labels), permitir alterar valor de célula, salvar de volta; menu para abrir/salvar.\n",
    "33. **Jogo “Adivinhe o número” OOP**: Scale ou Entry para definir máximo, botão para iniciar, Entry para chutar, label com pistas (“maior”, “menor”); menu reiniciar ou sair.\n",
    "34. **Temporizador / Timer**: Entry para digitar tempo; botão iniciar; label que conta regressivamente; menu para parar/quitar; quando tempo acabar, mostra diálogo “Tempo esgotado!”.\n",
    "35. **Conversor de unidades diversificadas**: Conversão de: temperatura, comprimento, peso. Usa combobox para escolher tipo de conversão; entradas para valores; menu para redefinir; diálogo de erro."
   ]
  },
  {
   "cell_type": "code",
   "execution_count": null,
   "id": "1b157b3a",
   "metadata": {},
   "outputs": [],
   "source": [
    "# ..."
   ]
  },
  {
   "cell_type": "markdown",
   "id": "bc99e787",
   "metadata": {},
   "source": [
    "36. **Aplicativo de cálculo de IMC com histórico**: Entry para peso/altura; botão calcular; mostrar resultado; guardar cada cálculo num Listbox; menu para limpar histórico; confirmação.\n",
    "37. **Aplicação de desenho com ferramentas**: Canvas com botão de mudança de pincel (cor, tamanho) via menu ou radiobutton; botões para desenhar formas; menu salvar desenho (como imagem, se quiser simplificado); limpar.\n",
    "38. **Simulador de mídia simples**: Botões play/pause, slider para volume, combobox para escolher faixa, menu para sair, ajuda; diálogo de confirmação.\n",
    "39. **Formulário de cadastro com validação**: Entradas (nome, email, senha), radiobutton para gênero, checkbutton para aceitar termos; validação de entradas; diálogos de erro ou confirmação; menu de ajuda.\n",
    "40. **Dashboard estatístico mini**: Simular dados (ou carregar de arquivo via diálogo), mostrar tabela ou gráfico simples em canvas; menu para abrir dados, menu para refazer gráfico, sair; diferentes frames para diferentes visualizações; OOP."
   ]
  },
  {
   "cell_type": "code",
   "execution_count": null,
   "id": "96810d69",
   "metadata": {},
   "outputs": [],
   "source": [
    "# ..."
   ]
  },
  {
   "cell_type": "markdown",
   "id": "d500fe06",
   "metadata": {},
   "source": [
    "41. **Janela inicial estilizada**: Crie uma janela com título e ícone customizados, centralizada na tela.\n",
    "42. **Botão com callback simples**: Crie um botão que, ao ser clicado, exiba em um Label a frase “Você clicou no botão!”.\n",
    "43. **Entrada de texto + botão**: Crie uma interface com um Entry e um botão que, ao ser clicado, copie o conteúdo para um Label.\n",
    "44. **Detectando evento de teclado**: Crie uma janela que exiba no Label a última tecla pressionada pelo usuário.\n",
    "45. **Detectando clique do mouse**: Crie uma janela que exiba as coordenadas do clique do mouse em um Label."
   ]
  },
  {
   "cell_type": "code",
   "execution_count": null,
   "id": "aa4722e7",
   "metadata": {},
   "outputs": [],
   "source": [
    "# ..."
   ]
  },
  {
   "cell_type": "markdown",
   "id": "2362f980",
   "metadata": {},
   "source": [
    "46. **Login simples (layout grid)**: Crie um formulário de login (usuário e senha) usando grid, com botão “Entrar”.\n",
    "47. **Login simples (layout pack)**: Refatore o exercício anterior, mas usando pack.\n",
    "48. **Login simples (layout place)**: Refatore novamente, agora usando place.\n",
    "49. **Contador com botões**: Crie uma janela com um número exibido em Label, e dois botões + e - para alterar o valor.\n",
    "50. **Classe App com label fixo**: Crie uma classe App (herdando de tk.Tk) que mostre apenas um Label com a mensagem “Aplicação OOP”."
   ]
  },
  {
   "cell_type": "code",
   "execution_count": null,
   "id": "6b30d60b",
   "metadata": {},
   "outputs": [],
   "source": [
    "# ..."
   ]
  },
  {
   "cell_type": "markdown",
   "id": "654b2350",
   "metadata": {},
   "source": [
    "51. **Classe App com contador**: Transforme o contador do exercício 9 em uma classe orientada a objetos.\n",
    "52. **Organizando em Frames**: Crie uma aplicação com dois frames:\n",
    "    - Um superior contendo três botões.\n",
    "    - Um inferior contendo um campo de texto (Text).\n",
    "53. **Calculadora simples com Frames**: Use dois frames:\n",
    "    - Um com os botões numéricos.\n",
    "    - Outro com operações básicas (+, -, *, /).\n",
    "54. **Troca de telas com Frames**: Crie duas telas diferentes (ex.: “Home” e “Configurações”) e permita alternar entre elas com botões.\n",
    "55. **Botão estilizado com ttk**: Crie um botão ttk.Button com um estilo personalizado (cor, fonte)."
   ]
  },
  {
   "cell_type": "code",
   "execution_count": null,
   "id": "7616d4e9",
   "metadata": {},
   "outputs": [],
   "source": [
    "# ..."
   ]
  },
  {
   "cell_type": "markdown",
   "id": "00bb7ccf",
   "metadata": {},
   "source": [
    "56. **Estilo aplicado a múltiplos widgets**: Crie um estilo customizado para ttk.Label e aplique a pelo menos três rótulos diferentes.\n",
    "57. **Mudança dinâmica de tema**: Crie dois estilos diferentes para botões (azul e verde) e adicione um botão que alterne o estilo aplicado em tempo de execução.\n",
    "58. **Mini formulário estilizado**: Crie um formulário (nome, email, telefone) usando ttk.Entry e ttk.Label, com um botão de envio estilizado.\n",
    "59. **Checkbuttons estilizados**: Crie três ttk.Checkbutton estilizados para selecionar opções de interesse (ex.: música, cinema, esportes).\n",
    "60. **App integrado (mini dashboard)**: Crie uma aplicação que combine:\n",
    "    - Uma janela com título e ícone.\n",
    "    - Dois frames (menu lateral + conteúdo).\n",
    "    - Botões estilizados (ttk.Button) no menu.\n",
    "    - Um campo de texto e uma área de exibição no conteúdo."
   ]
  },
  {
   "cell_type": "code",
   "execution_count": null,
   "id": "955eb0bf",
   "metadata": {},
   "outputs": [],
   "source": [
    "# ..."
   ]
  }
 ],
 "metadata": {
  "kernelspec": {
   "display_name": "POO II",
   "language": "python",
   "name": "python3"
  },
  "language_info": {
   "name": "python",
   "version": "3.13.8"
  }
 },
 "nbformat": 4,
 "nbformat_minor": 5
}
